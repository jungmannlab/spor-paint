{
 "cells": [
  {
   "cell_type": "code",
   "execution_count": 1,
   "id": "08f10f72",
   "metadata": {},
   "outputs": [],
   "source": [
    "import pandas as pd\n",
    "import os.path as ospath\n",
    "from tqdm.notebook import tqdm\n",
    "import os\n",
    "\n",
    "\"\"\"\n",
    "This script calculates the ratio and difference between the slopes fitted for spor and veg rings acquired in the same FOV.\n",
    "\"\"\""
   ]
  },
  {
   "cell_type": "code",
   "execution_count": 2,
   "id": "d3b29e4c",
   "metadata": {},
   "outputs": [],
   "source": [
    "def load_df(dirname, filename):\n",
    "    file = ospath.join(dirname, filename)\n",
    "\n",
    "    try: \n",
    "        df = pd.read_pickle(file)\n",
    "    except FileNotFoundError:\n",
    "        print(\"The file {} does not exist.\".format(filename))\n",
    "        return None\n",
    "    else: \n",
    "        print(\"The file {} was loaded.\".format(filename))\n",
    "        return df"
   ]
  },
  {
   "cell_type": "code",
   "execution_count": 4,
   "id": "7ba6f9d5",
   "metadata": {},
   "outputs": [
    {
     "name": "stdout",
     "output_type": "stream",
     "text": [
      "The file fit_result_dark_time_radius.pkl was loaded.\n"
     ]
    }
   ],
   "source": [
    "path = r'X:\\users\\kcramer\\sporPAINT\\SepF\\picked_rings_SepF_working\\analysis\\plots'\n",
    "file = 'fit_result_dark_time_radius'\n",
    "\n",
    "\n",
    "df = load_df(path, file + '.pkl')"
   ]
  },
  {
   "cell_type": "code",
   "execution_count": 6,
   "id": "ec95fab4",
   "metadata": {},
   "outputs": [
    {
     "data": {
      "application/vnd.jupyter.widget-view+json": {
       "model_id": "b4f54232ba8046b08e9609321aa504fa",
       "version_major": 2,
       "version_minor": 0
      },
      "text/plain": [
       "Processing FOVs:   0%|          | 0/38 [00:00<?, ?it/s]"
      ]
     },
     "metadata": {},
     "output_type": "display_data"
    },
    {
     "name": "stdout",
     "output_type": "stream",
     "text": [
      "5.3014899695753896e-05\n",
      "8.153966895459652e-05\n",
      "7.211002899898999e-05\n",
      "4.3577296805327995e-05\n",
      "6.36973950129966e-05\n",
      "5.9227738787875285e-05\n"
     ]
    }
   ],
   "source": [
    "fov_id_max = df['fov_id'].max()\n",
    "\n",
    "result = []\n",
    "for fov_id in tqdm(range(fov_id_max), desc=\"Processing FOVs\"):\n",
    "    \n",
    "    df_fov_id_spor = df[(df['fov_id']==fov_id) & (df['cell_type']=='spor')]\n",
    "    df_fov_id_veg = df[(df['fov_id']==fov_id) & (df['cell_type']=='veg')]\n",
    "    \n",
    "    if (len(df_fov_id_spor)==0):\n",
    "        plot_spor = False\n",
    "    else: \n",
    "        plot_spor = True\n",
    "    \n",
    "    if (len(df_fov_id_veg)==0):\n",
    "        plot_veg = False\n",
    "    else: \n",
    "        plot_veg = True\n",
    "\n",
    "    if len(df_fov_id_spor)==0 or len(df_fov_id_veg) == 0:\n",
    "        continue\n",
    "    \n",
    "    # divide slopes: spor / veg\n",
    "    print(df_fov_id_spor['a'].values[0] )\n",
    "    slope_ratio = df_fov_id_spor['a'].values[0] / df_fov_id_veg['a'].values[0]\n",
    "    \n",
    "    # subtract slopes: spor - veg\n",
    "    slope_diff = df_fov_id_spor['a'].values[0] - df_fov_id_veg['a'].values[0]\n",
    "    \n",
    "    result.append([fov_id, slope_ratio, slope_diff])\n",
    "    \n",
    "    \n",
    "# Save ring data\n",
    "df_save = pd.DataFrame(result, columns=[\"fov_id\",\n",
    "                                        \"slope_ratio\",\n",
    "                                        \"slope_diff\",\n",
    "                                           ])\n",
    "\n",
    "df_save.to_csv(os.path.join(path, file + '_spor_vs_veg.csv'))        \n",
    "# Save dataframe with cell means for easy loading of data for postprocessing\n",
    "df_save.to_pickle(os.path.join(path, file + '_spor_vs_veg.pkl'))\n"
   ]
  },
  {
   "cell_type": "code",
   "execution_count": null,
   "id": "076aa84d",
   "metadata": {},
   "outputs": [],
   "source": []
  }
 ],
 "metadata": {
  "kernelspec": {
   "display_name": "Python 3 (ipykernel)",
   "language": "python",
   "name": "python3"
  },
  "language_info": {
   "codemirror_mode": {
    "name": "ipython",
    "version": 3
   },
   "file_extension": ".py",
   "mimetype": "text/x-python",
   "name": "python",
   "nbconvert_exporter": "python",
   "pygments_lexer": "ipython3",
   "version": "3.7.13"
  }
 },
 "nbformat": 4,
 "nbformat_minor": 5
}
