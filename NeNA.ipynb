{
 "cells": [
  {
   "cell_type": "code",
   "execution_count": 35,
   "id": "b639b632",
   "metadata": {},
   "outputs": [],
   "source": [
    "import pathlib\n",
    "import pandas as pd\n",
    "import os\n",
    "import numpy as np\n",
    "\n",
    "from picasso.picasso import postprocess\n",
    "from picasso.picasso import io"
   ]
  },
  {
   "cell_type": "code",
   "execution_count": 36,
   "id": "8961780b",
   "metadata": {},
   "outputs": [],
   "source": [
    "def load_data(path):\n",
    "\n",
    "    try:\n",
    "        locs, info = io.load_locs(path)\n",
    "    except io.NoMetadataFileError:\n",
    "        return None, None, None\n",
    "    \n",
    "    try:\n",
    "        pixelsize = info[1][\"Pixelsize\"]\n",
    "    except:  \n",
    "        print(\"No pixelsize found in yaml file.\")\n",
    "\n",
    "    return locs, info, pixelsize"
   ]
  },
  {
   "cell_type": "code",
   "execution_count": 39,
   "id": "8c25784e",
   "metadata": {},
   "outputs": [],
   "source": [
    "parent_folder = r'X:\\users\\kcramer\\sporPAINT\\SepF\\picked_rings_SepF'\n",
    "\n",
    "filename_contains = ['fov']\n",
    "\n",
    "exclude_if = ['quack', 'burger', r'ring_locs\\fov']"
   ]
  },
  {
   "cell_type": "code",
   "execution_count": 40,
   "id": "61773321",
   "metadata": {},
   "outputs": [
    {
     "name": "stdout",
     "output_type": "stream",
     "text": [
      "X:\\users\\kcramer\\sporPAINT\\SepF\\picked_rings_SepF\\spor_sepF_rings_230401_fov4_kcb1113_500pMr4_SepF_DP_1_drift_aligned_picked.hdf5\n",
      "6.350240033557761 5.489114820957184\n",
      "X:\\users\\kcramer\\sporPAINT\\SepF\\picked_rings_SepF\\spor_sepf_rings_230518_artemis_kcb1113_fov4_140pM-r2_SepF_DP_1_drift_aligned_picked.hdf5\n",
      "4.828830155188366 4.910804554820061\n",
      "X:\\users\\kcramer\\sporPAINT\\SepF\\picked_rings_SepF\\spor_sepf_rings_230518_artemis_kcb1113_fov1_150pM-r2_SepF_DP-2_1_drift_aligned_picked.hdf5\n",
      "4.726033882321216 4.806486070156097\n",
      "X:\\users\\kcramer\\sporPAINT\\SepF\\picked_rings_SepF\\Veg_SepF_rings_230310_kcb1113_2plex_spor_fov5_500pM-r3_SepF_DP_3_drift_picked.hdf5\n",
      "6.471934507018673 3.3618605881929398\n",
      "X:\\users\\kcramer\\sporPAINT\\SepF\\picked_rings_SepF\\spor_sepF_rings_230518_artemis_kcb1113_fov2_150pM-r2_SepF_DP_1_drift_aligned_picked.hdf5\n",
      "5.221417169069693 4.755638763308525\n",
      "X:\\users\\kcramer\\sporPAINT\\SepF\\picked_rings_SepF\\veg_sepf_rings_230401_fov2_kcb1113_50pMr2_SepF_DP_1_drift_filter_sxsy_picked.hdf5\n",
      "6.140901027416525 5.75419407337904\n",
      "X:\\users\\kcramer\\sporPAINT\\SepF\\picked_rings_SepF\\Spor_SepF_rings_221015_2plex_rab7xR4_gfp5xR1_kcb1113-fov1-SepF_2_drift_aligned_picked.hdf5\n",
      "5.273298420741197 5.39545938372612\n",
      "X:\\users\\kcramer\\sporPAINT\\SepF\\picked_rings_SepF\\spor_SepF_rings_230310_kcb1113_2plex_spor_fov3_500pM-r3_SepF_DP_1_drift_aligned_picked.hdf5\n",
      "4.8188589231282535 3.4607865288853645\n",
      "X:\\users\\kcramer\\sporPAINT\\SepF\\picked_rings_SepF\\veg_sepF_rings_230401_fov4_kcb1113_500pMr4_SepF_DP_1_drift_aligned_picked.hdf5\n",
      "6.2772142537051785 5.708468109369278\n",
      "X:\\users\\kcramer\\sporPAINT\\SepF\\picked_rings_SepF\\veg_SepF_rings_230310_kcb1113_2plex_spor_fov3_500pM-r3_SepF_DP_1_drift_aligned_picked.hdf5\n",
      "5.035938639812039 3.2940883934497833\n",
      "X:\\users\\kcramer\\sporPAINT\\SepF\\picked_rings_SepF\\veg_sepF_rings_230518_artemis_kcb1113_fov2_150pM-r2_SepF_DP_1_drift_aligned_picked.hdf5\n",
      "4.102039484992737 3.7496058084070683\n",
      "X:\\users\\kcramer\\sporPAINT\\SepF\\picked_rings_SepF\\spor_SepF_rings_230401_fov1_kcb1113_500pMr4_SepF_DP_1_drift_filter-2_picked.hdf5\n",
      "7.50353449633594 6.9057320058345795\n",
      "X:\\users\\kcramer\\sporPAINT\\SepF\\picked_rings_SepF\\veg_sepf_rings_230518_artemis_kcb1113_fov3_150pM-r2_SepF_DP_1_drift_aligned_picked.hdf5\n",
      "5.0328545630035215 3.9369038492441177\n",
      "X:\\users\\kcramer\\sporPAINT\\SepF\\picked_rings_SepF\\spor_sepf_rings_230401_fov2_kcb1113_50pMr2_SepF_DP_1_drift_filter_sxsy_picked.hdf5\n",
      "6.736694091376232 7.251696027815342\n",
      "X:\\users\\kcramer\\sporPAINT\\SepF\\picked_rings_SepF\\spor_sepf_rings_230310_kcb1113_2plex_spor_fov4_500pM-r3_SepF_DP_1_drift_aligned_picked.hdf5\n",
      "5.4670136008415575 3.5027960687875748\n",
      "X:\\users\\kcramer\\sporPAINT\\SepF\\picked_rings_SepF\\veg_sepf_rings_230518_artemis_kcb1113_fov4_140pM-r2_SepF_DP_1_drift_aligned_picked.hdf5\n",
      "4.663988733373947 4.486459046602249\n",
      "X:\\users\\kcramer\\sporPAINT\\SepF\\picked_rings_SepF\\veg_SepF_rings_230310_kcb1113_2plex_spor_fov2_500pM-r3_SepF_DP_1_drift_aligned_picked.hdf5\n",
      "5.55585650795944 4.667449966073036\n",
      "X:\\users\\kcramer\\sporPAINT\\SepF\\picked_rings_SepF\\spor_sepf_rings_230401_fov3_kcb1113_500pMr2_SepF_DP_1_drift_aligned_picked.hdf5\n",
      "6.25822302104311 6.1580125615000725\n",
      "X:\\users\\kcramer\\sporPAINT\\SepF\\picked_rings_SepF\\Veg_SepF_rings_221015_2plex_rab7xR4_gfp5xR1_kcb1113-fov1-SepF_2_drift_aligned_picked.hdf5\n",
      "7.562198434208051 7.804440259933472\n",
      "X:\\users\\kcramer\\sporPAINT\\SepF\\picked_rings_SepF\\spor_SepF_rings_230310_kcb1113_2plex_spor_fov2_500pM-r3_SepF_DP_1_drift_aligned_picked.hdf5\n",
      "5.365314970018407 4.261247329413891\n",
      "X:\\users\\kcramer\\sporPAINT\\SepF\\picked_rings_SepF\\veg_sepf_rings_230518_artemis_kcb1113_fov1_150pM-r2_SepF_DP-2_1_drift_aligned_picked.hdf5\n",
      "5.284429809500892 5.541748180985451\n",
      "X:\\users\\kcramer\\sporPAINT\\SepF\\picked_rings_SepF\\spor_SepF_rings_230310_kcb1113_2plex_spor_fov5_500pM-r3_SepF_DP_3_drift_picked.hdf5\n",
      "6.768678725551698 3.8850535824894905\n",
      "X:\\users\\kcramer\\sporPAINT\\SepF\\picked_rings_SepF\\veg_sepf_rings_230401_fov3_kcb1113_500pMr2_SepF_DP_1_drift_aligned_picked.hdf5\n",
      "5.7949069331437 5.602151453495026\n",
      "X:\\users\\kcramer\\sporPAINT\\SepF\\picked_rings_SepF\\spor_sepf_rings_230518_artemis_kcb1113_fov3_150pM-r2_SepF_DP_1_drift_aligned_picked.hdf5\n",
      "4.615782208794492 3.9285242184996605\n",
      "X:\\users\\kcramer\\sporPAINT\\SepF\\picked_rings_SepF\\veg_sepf_rings_230310_kcb1113_2plex_spor_fov4_500pM-r3_SepF_DP_1_drift_aligned_picked.hdf5\n",
      "5.733312344410297 4.10640649497509\n",
      "X:\\users\\kcramer\\sporPAINT\\SepF\\picked_rings_SepF\\Veg_SepF_rings_230401_fov1_kcb1113_500pMr4_SepF_DP_1_drift_filter-2_picked.hdf5\n",
      "6.32523991089871 5.023907534778118\n"
     ]
    }
   ],
   "source": [
    "loc_prec_list = []\n",
    "\n",
    "path = pathlib.Path(parent_folder)\n",
    "for file in path.rglob('*.hdf5'):\n",
    "    file = str(file)\n",
    "\n",
    "    # exclude filenames that contain any of the strings in the exclude_if array\n",
    "    if not any(x in file for x in exclude_if):\n",
    "        \n",
    "        # exclude filenames that do not contain all of the strings in the filename_contains array\n",
    "        if all(x in file for x in filename_contains):\n",
    "            print(file)\n",
    "            \n",
    "            locs, info, pixelsize = load_data(file)\n",
    "            \n",
    "            fit_result, nena = postprocess.nena(locs, info)\n",
    "            nena_nm = nena * pixelsize\n",
    "\n",
    "            \n",
    "            \n",
    "            \n",
    "            median_lp = np.mean([np.median(locs.lpx), np.median(locs.lpy)])\n",
    "            median_lp_nm = median_lp * pixelsize\n",
    "            \n",
    "            loc_prec_list.append([file, nena_nm, median_lp_nm])\n",
    "            \n",
    "            \n",
    "\n",
    "            print(nena_nm, median_lp_nm)\n",
    "            \n",
    "            \n",
    "loc_prec_list_df = pd.DataFrame(loc_prec_list, columns = ['Filename', 'NeNA', 'Median Fit Precision'])\n",
    "loc_prec_list_df.to_csv(os.path.join(parent_folder, 'Localization_Precision.csv'))"
   ]
  },
  {
   "cell_type": "code",
   "execution_count": 38,
   "id": "3133c8cd",
   "metadata": {},
   "outputs": [
    {
     "name": "stdout",
     "output_type": "stream",
     "text": [
      "True\n",
      "Z:\\users\\kcramer\\sporPAINT\\SepF\\picked_rings_SepF\\analysis\\ring_locs\\fov_7_spor_pick_5_rot_yz.hdf5\n"
     ]
    }
   ],
   "source": [
    "print(r'ring_locs\\fov' in file)\n",
    "print(file)"
   ]
  },
  {
   "cell_type": "code",
   "execution_count": null,
   "id": "9b16ca9c",
   "metadata": {},
   "outputs": [],
   "source": []
  }
 ],
 "metadata": {
  "kernelspec": {
   "display_name": "Python 3 (ipykernel)",
   "language": "python",
   "name": "python3"
  },
  "language_info": {
   "codemirror_mode": {
    "name": "ipython",
    "version": 3
   },
   "file_extension": ".py",
   "mimetype": "text/x-python",
   "name": "python",
   "nbconvert_exporter": "python",
   "pygments_lexer": "ipython3",
   "version": "3.7.13"
  }
 },
 "nbformat": 4,
 "nbformat_minor": 5
}
