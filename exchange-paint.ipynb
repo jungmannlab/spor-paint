{
 "cells": [
  {
   "cell_type": "code",
   "execution_count": 1,
   "metadata": {},
   "outputs": [],
   "source": [
    "import numpy as np\n",
    "import pandas as pd\n",
    "import seaborn as sns; sns.set()\n",
    "from matplotlib import pyplot as plt, cm, colors\n",
    "import matplotlib.gridspec as gridspec\n",
    "from mpl_toolkits.mplot3d import Axes3D\n",
    "\n",
    "sns.set(style=\"darkgrid\")\n",
    "sns.set(style=\"darkgrid\")\n",
    "from matplotlib import pyplot as plt, cm, colors\n",
    "from tqdm.notebook import tqdm\n",
    "\n",
    "import glob\n",
    "import os.path as ospath\n",
    "import os\n",
    "from sys import executable\n",
    "from subprocess import check_output\n",
    "from PyQt5.QtWidgets import QFileDialog, QApplication\n",
    "from IPython.display import HTML\n",
    "\n",
    "from scipy import optimize\n",
    "from scipy.spatial import distance\n",
    "from scipy import linalg\n",
    "from scipy import signal\n",
    "from sklearn.cluster import MeanShift, estimate_bandwidth\n",
    "\n",
    "from picasso.picasso import io\n",
    "from picasso.picasso.postprocess import link, compute_dark_times\n",
    "from picasso.picasso.render import render\n",
    "from picasso.picasso.gui.render import estimate_kinetic_rate, fit_cum_exp\n",
    "\n"
   ]
  },
  {
   "cell_type": "code",
   "execution_count": 2,
   "metadata": {},
   "outputs": [],
   "source": [
    "# define visualization options \n",
    "%matplotlib inline\n",
    "%gui qt\n",
    "\n",
    "# define colors:\n",
    "blue = \"#4C72B0\"\n",
    "orange = \"#DD8452\"\n",
    "red = \"#C44E52\"\n",
    "gray = \"#90A8CE\"\n",
    "\n",
    "\n",
    "def OpenFileDialog():\n",
    "    file = check_output([executable, __file__])\n",
    "    return file.strip()\n",
    "\n",
    "\n",
    "def gui_fname(dir=None):\n",
    "    \"\"\"\n",
    "    Select a file via a dialog and return the file name.\n",
    "    \"\"\"\n",
    "    if dir is None: \n",
    "        dir =\"./\"\n",
    "\n",
    "    app = QApplication([dir])\n",
    "    fname = QFileDialog.getExistingDirectory(None, \"Select a folder...\", \n",
    "            dir)\n",
    "    if isinstance(fname, tuple):\n",
    "        return fname[0]\n",
    "    else: \n",
    "        return str(fname)\n",
    "\n",
    "\n",
    "def load_files(dirname):\n",
    "    \n",
    "    os.chdir(dirname)\n",
    "    files = glob.glob(\"*.hdf5\")\n",
    "    \n",
    "    if files:\n",
    "        print(\"{} HDF5 files found.\".format(len(files)))\n",
    "    else:\n",
    "        print(\"No HDF5 files found at: {}\".format(dirname))\n",
    "            \n",
    "    return files\n",
    "\n",
    "\n",
    "def load_data(path):\n",
    "\n",
    "    data, info = io.load_locs(path)\n",
    "    try:\n",
    "        pixelsize = info[1][\"Pixelsize\"]\n",
    "    except:  \n",
    "        print(\"No pixelsize found in yaml file. Default 130 nm used.\")\n",
    "  \n",
    "\n",
    "    # convert px to nm\n",
    "    data.x *= pixelsize\n",
    "    data.y *= pixelsize\n",
    "    data.x_pick_rot *= pixelsize\n",
    "    data.y_pick_rot *= pixelsize\n",
    "    \n",
    "    return data, info, pixelsize\n",
    "\n",
    "\n",
    "def double_gaus(x,a,x0,sigma, b, x1, sigma1):\n",
    "    return a*np.exp(-(x-x0)**2/(2*sigma**2)) + b*np.exp(-(x-x1)**2/(2*sigma1**2))\n",
    "\n",
    "def gaus(x,a,x0,sigma):\n",
    "    return a*np.exp(-(x-x0)**2/(2*sigma**2)) \n",
    "\n",
    "\n",
    "def find_peaks(data, binning=100, axes=\"y\"):\n",
    "    \n",
    "    if axes == \"y\":\n",
    "        column = \"y_pick_rot\"\n",
    "    elif axes == \"x\":\n",
    "        column = \"x_pick_rot\"\n",
    "    elif axes == \"xyz\":\n",
    "        column = 2\n",
    "    \n",
    "    # find peaks\n",
    "    bandwidth = estimate_bandwidth(data[column].reshape(-1, 1), quantile=0.2, n_samples=binning)\n",
    "    #print(\"estimated bandwidth: \"+str(bandwidth))\n",
    "    ms = MeanShift(bandwidth=bandwidth, bin_seeding=True)\n",
    "    ms.fit(data[column].reshape(-1, 1))\n",
    "    labels = ms.labels_\n",
    "    peaks = np.sort(ms.cluster_centers_[0:2],axis=None) # assuming that there are two large peaks from the two rings\n",
    "    peak1 = float(peaks[0])\n",
    "    peak2 = float(peaks[1])\n",
    "    estimated_peaks = {0:peak1, 1:peak2}\n",
    "\n",
    "    # histogram\n",
    "    n, bins = np.histogram(data[column], bins=binning)\n",
    "    #bins = bins[1:]\n",
    "    centers = (bins[:-1] + bins[1:]) / 2\n",
    "    hist_data = [n, centers]\n",
    "\n",
    "    # fit peaks\n",
    "    p0 = [peak1/2, peak1, 40, peak2/2, peak2, 40]\n",
    "    try:\n",
    "        p_fit, p_cov = optimize.curve_fit(double_gaus, centers, n, p0=p0)\n",
    "    except:\n",
    "        p_fit = [0,0,0,1000,1000,1000]\n",
    "        \n",
    "    \n",
    "    # check order of fitted peaks (peak 1 < peak 2)\n",
    "    if p_fit[1] > p_fit[4]:\n",
    "        p_temp = p_fit.copy()\n",
    "        p_fit[0:3]=p_temp[3:6]\n",
    "        p_fit[3:6]=p_temp[0:3]\n",
    "       \n",
    "        \n",
    "    # p_fit: amplitued_1, center_1, width_1, amplitude_2, center_2, width_2\n",
    "        \n",
    "    return estimated_peaks, p_fit, hist_data\n",
    "\n",
    "def find_peak(data, binning=100, axes=\"y\"):\n",
    "    \n",
    "    if axes == \"y\":\n",
    "        column = \"y_pick_rot\"\n",
    "    elif axes == \"x\":\n",
    "        column = \"x_pick_rot\"\n",
    "    elif axes == \"xyz\":\n",
    "        column = 2\n",
    "    \n",
    "    # find peak\n",
    "    bandwidth = estimate_bandwidth(data[column].reshape(-1, 1), quantile=0.2, n_samples=binning)\n",
    "    #print(\"estimated bandwidth: \"+str(bandwidth))\n",
    "    ms = MeanShift(bandwidth=bandwidth, bin_seeding=True)\n",
    "    ms.fit(data[column].reshape(-1, 1))\n",
    "    labels = ms.labels_\n",
    "   # print(ms.cluster_centers_[0:2])\n",
    "    peaks = np.sort(ms.cluster_centers_[0:2], axis=None)\n",
    "    peak1 = float(ms.cluster_centers_[0])\n",
    "    estimated_peak = {0:peak1}\n",
    "\n",
    "    # histogram\n",
    "    n, bins = np.histogram(data[column], bins=binning)\n",
    "    #bins = bins[1:]\n",
    "    centers = (bins[:-1] + bins[1:]) / 2\n",
    "    hist_data = [n, centers]\n",
    "\n",
    "    # fit peaks\n",
    "    p0 = [peak1/2, peak1, 40]\n",
    "    try:\n",
    "        p_fit, p_cov = optimize.curve_fit(gaus, centers, n, p0=p0)\n",
    "    except:\n",
    "        p_fit = [0,0,0]\n",
    "        \n",
    "    return estimated_peak, p_fit, hist_data\n",
    "\n",
    "\n",
    "def plot_peak_dist(data, hist_data, peaks, p_fit, binning=100,cutoff=1, axes=\"y\", ax=None):\n",
    "    \n",
    "    if ax is None:\n",
    "        ax = plt.gca()\n",
    "        \n",
    "    if axes == \"y\":\n",
    "        column = \"y_pick_rot\"\n",
    "    elif axes == \"x\":\n",
    "        column = \"x_pick_rot\"\n",
    "    elif axes == \"xyz\":\n",
    "        column == 1\n",
    "        \n",
    "    peak1 = peaks[0]\n",
    "    peak2 = peaks[1]\n",
    "    \n",
    "    n = hist_data[0]\n",
    "    bins = hist_data[1]\n",
    "    \n",
    "    #fig, ax = plt.subplots(figsize=(9, 5))\n",
    "    binwidth = (max(bins)-min(bins)) / binning\n",
    "    ax.bar(bins, n, width=binwidth, color=gray)\n",
    "    xlin = np.linspace(0, data[column].max(), 1000)\n",
    "    ax.plot(xlin, gaus(xlin,*p_fit[0:3]), c=red, linewidth=2)\n",
    "    ax.plot(xlin, gaus(xlin,*p_fit[3:6]), c=red, linewidth=2)\n",
    "    ax.axvline(p_fit[1]-(p_fit[2]*cutoff),c=blue, linewidth=2, linestyle=\"--\")\n",
    "    ax.axvline(p_fit[1]+(p_fit[2]*cutoff),c=blue, linewidth=2, linestyle=\"--\")\n",
    "    ax.axvline(p_fit[4]-(p_fit[5]*cutoff),c=orange, linewidth=2, linestyle=\"--\")\n",
    "    ax.axvline(p_fit[4]+(p_fit[5]*cutoff),c=orange, linewidth=2, linestyle=\"--\")\n",
    "    ax.set_title(\"Line profile\",loc=\"left\",fontsize=14)\n",
    "    ax.set_xlabel(\"y (nm)\")\n",
    "    ax.set_ylabel(\"Counts\")  \n",
    "    ax.text(0.15,\n",
    "            0.7,\n",
    "            (\"Estimated Peaks:\\n\"\n",
    "            \"Peak 1 at {:.1f} nm\\n\"\n",
    "            \"Peak 2 at {:.1f} nm\\n\"\n",
    "            \"Fitted Peaks:\\n\"\n",
    "            \"Peak 1 at {:.1f} nm\\n\"\n",
    "            \"Peak 2 at {:.1f} nm\").format(peak1,peak2,p_fit[1],p_fit[4]),\n",
    "            horizontalalignment=\"center\",\n",
    "            verticalalignment=\"center\",\n",
    "            transform = ax.transAxes,\n",
    "            fontsize=12)\n",
    "\n",
    "    return ax\n",
    "\n",
    "\n",
    "def isolate_ring(data, c, w, axes=\"y\", cutoff=1.0):\n",
    "    \n",
    "    if axes == \"y\":\n",
    "        column = \"y_pick_rot\"\n",
    "    elif axes == \"x\":\n",
    "        column = \"x_pick_rot\"\n",
    "        \n",
    "    ring_data = data[np.where((data[column]>(c-(cutoff*w))) & (data[column] <(c+(cutoff*w))))]\n",
    "    return ring_data\n",
    "\n",
    "\n",
    "def rodrigues_rot(P, n0, n1):\n",
    "    # adapted from https://meshlogic.github.io/posts/jupyter/curve-fitting/fitting-a-circle-to-cluster-of-3d-points/\n",
    "    # If P is only 1d array (coords of single point), fix it to be matrix\n",
    "    if P.ndim == 1:\n",
    "        P = P[np.newaxis,:]\n",
    "    \n",
    "    # Get vector of rotation k and angle theta\n",
    "    n0 = n0/linalg.norm(n0)\n",
    "    n1 = n1/linalg.norm(n1)\n",
    "    k = np.cross(n0,n1)\n",
    "    k = k/linalg.norm(k)\n",
    "    theta =np.arccos(np.dot(n0,n1))\n",
    "    \n",
    "    # Compute rotated points\n",
    "    P_rot = np.zeros((len(P),3))\n",
    "    for i in range(len(P)):\n",
    "        P_rot[i] = P[i]*np.cos(theta) + np.cross(k,P[i])*np.sin(theta) + k*np.dot(k,P[i])*(1-np.cos(theta))\n",
    "\n",
    "    return P_rot\n",
    "\n",
    "\n",
    "def rotate_ring(XYZ): \n",
    "    # Fitting plane by SVD for the mean-centered data\n",
    "    # Eq. of plane is <p,n> + d = 0, where p is a point on plane and n is normal vector\n",
    "       \n",
    "    # Normal vector of fitting plane is given by 3rd column in V\n",
    "    # Note linalg.svd returns V^T, so we need to select 3rd row from V^T\n",
    "    ring_mean = XYZ.mean(axis=0)\n",
    "    ring_centered = XYZ - ring_mean\n",
    "    U,s,V = linalg.svd(ring_centered)\n",
    "    normal = V[2,:]\n",
    "    d = -np.dot(ring_mean, normal) \n",
    "        \n",
    "    n0 = normal # new z axes\n",
    "    n1 = [0,0,1] # old z axes\n",
    "\n",
    "    ring_rot = rodrigues_rot(ring_centered, n0, n1)\n",
    "    \n",
    "    return ring_rot, normal\n",
    "\n",
    "\n",
    "def plot_3d_ring(ring_rot, dist, ax=None):\n",
    "    \n",
    "    ax.scatter(ring_rot[0][:,0], ring_rot[0][:,1], ring_rot[0][:,2]-dist/2,c=blue,label=\"Spore\", alpha=0.5)\n",
    "    ax.scatter(ring_rot[1][:,0], ring_rot[1][:,1], ring_rot[1][:,2]+dist/2,c=orange,label=\"Mother\", alpha=0.5)\n",
    "    ax.set_xlabel(\"x (nm)\")\n",
    "    ax.set_ylabel(\"y (nm)\")\n",
    "    ax.set_zlabel(\"z (nm)\")\n",
    "    ax.legend(loc=\"best\",labelspacing=0.1)\n",
    "    #ax.view_init(elev=2., azim=10.)\n",
    "    ax.view_init(elev=30., azim=10.)\n",
    "    set_axes_equal_3d(ax)\n",
    "\n",
    "    return ax\n",
    "    \n",
    "    \n",
    "def set_axes_equal_3d(ax):\n",
    "    limits = np.array([ax.get_xlim3d(), ax.get_ylim3d(), ax.get_zlim3d()])\n",
    "    spans = abs(limits[:,0] - limits[:,1])\n",
    "    centers = np.mean(limits, axis=1)\n",
    "    radius = 0.5 * max(spans)\n",
    "    ax.set_xlim3d([centers[0]-radius, centers[0]+radius])\n",
    "    ax.set_ylim3d([centers[1]-radius, centers[1]+radius])\n",
    "    ax.set_zlim3d([centers[2]-radius, centers[2]+radius])\n",
    "    \n",
    "\n",
    "def angle_between(u, v, n=None):\n",
    "    if n is None:\n",
    "        return np.arctan2(np.linalg.norm(np.cross(u,v)), np.dot(u,v))*180/np.pi\n",
    "    else:\n",
    "        return np.arctan2(np.dot(n,np.cross(u,v)), np.dot(u,v))*180/np.pi\n",
    "\n",
    "\n",
    "def calc_R(x, y, xc, yc):\n",
    "    # adapted from https://gist.github.com/lorenzoriano/6799568\n",
    "    \"\"\" calculate the distance of each 2D points from the center (xc, yc) \"\"\"\n",
    "    return np.sqrt((x-xc)**2 + (y-yc)**2)\n",
    "\n",
    "\n",
    "def f(c, x, y):\n",
    "    \"\"\" calculate the algebraic distance between the data points and the mean circle centered at c=(xc, yc) \"\"\"\n",
    "    Ri = calc_R(x, y, *c)\n",
    "    return Ri - np.median(Ri)\n",
    "\n",
    "\n",
    "def leastsq_circle(x,y):\n",
    "    \n",
    "    x_m = np.median(x)\n",
    "    y_m = np.median(y)\n",
    "    center_estimate = x_m, y_m\n",
    "    center, ier = optimize.leastsq(f, center_estimate, args=(x,y))\n",
    "    xc, yc = center\n",
    "    Ri       = calc_R(x, y, *center)\n",
    "    R        = np.median(Ri)\n",
    "    residu   = np.sum((Ri - R)**2)\n",
    "    return xc, yc, R, residu\n",
    "\n",
    "\n",
    "def plot_data_circle(x, y, xc, yc, R, id, center=True, ax=None):\n",
    "    \n",
    "    if id == 0:\n",
    "        label = \"spore\"\n",
    "        color = blue\n",
    "    else:\n",
    "        label = \"mother\"\n",
    "        color = orange\n",
    "    \n",
    "    if ax is None:\n",
    "        ax = plt.gca()\n",
    "    \n",
    "    if center:\n",
    "        x -= xc\n",
    "        y -= yc\n",
    "        xc = 0\n",
    "        yc = 0 \n",
    "        \n",
    "    #f, ax = plt.subplots(figsize=(5,5))  #figsize=(7, 5.4), dpi=72,\n",
    "    theta_fit = np.linspace(-np.pi,np.pi, 180)\n",
    "    x_fit = xc + R*np.cos(theta_fit)\n",
    "    y_fit = yc + R*np.sin(theta_fit)\n",
    "    \n",
    "    # plot fit\n",
    "    ax.plot(x_fit, y_fit, label=\"Fitted circle\", lw=2, c=red)\n",
    "    ax.plot([xc], [yc], mec=\"y\", mew=1,  c=red)\n",
    "    \n",
    "    # plot data\n",
    "    ax.scatter(x, y, alpha=0.4,  label=\"Projected locs\", marker=\".\", c=color)\n",
    "    \n",
    "    ax.set_xlabel(\"x rotated (nm)\")\n",
    "    ax.set_ylabel(\"y rotated (nm)\")\n",
    "    #ax.axis(\"equal\")\n",
    "    ax.set_xlim([-800,800])\n",
    "    ax.set_aspect(\"equal\",adjustable=\"datalim\")\n",
    "    \n",
    "    ax.legend(loc=\"best\", labelspacing=0.1)\n",
    "    ax.set_title(\"Least squares circle {}\\n\"\n",
    "                 \"Fit radius: {:.1f} nm\".format(label,R),loc=\"left\",fontsize=14)\n",
    "    \n",
    "    return \n",
    "\n",
    "\n",
    "def check_consistency(ring_par):\n",
    "    \n",
    "    ev = 0\n",
    "    \n",
    "    amp_1, c_1, w_1 = ring_par[0]\n",
    "    amp_2, c_2, w_2 = ring_par[1]\n",
    "    \n",
    "    if amp_1/amp_2 >= 0.3 and amp_2/amp_1 >= 0.3:\n",
    "        ev +=1 \n",
    "        \n",
    "    if abs(c_1-c_2) > 30 and abs(c_1-c_2) < 300:\n",
    "        ev +=1\n",
    "        \n",
    "    if w_1/w_2 >= 0.3 and w_2/w_1 >=0.3:\n",
    "        ev +=1\n",
    "        \n",
    "    return (ev==3)\n",
    "\n",
    "def plot_cum_exp(pooled_locs, fit_result_len, fit_result_dark, id, ax=None):\n",
    "    \n",
    "    if id == 0:\n",
    "        color = blue\n",
    "        label = 'spore'\n",
    "    if id == 1:\n",
    "        color = orange\n",
    "        label = 'mother'\n",
    "\n",
    "    if ax is None:\n",
    "        ax = plt.gca()\n",
    "    \n",
    "    data = pooled_locs.dark\n",
    "    data.sort()\n",
    "    y = np.arange(1, len(data) + 1)\n",
    "       \n",
    "    a = fit_result_dark.best_values[\"a\"]\n",
    "    t = fit_result_dark.best_values[\"t\"]\n",
    "    c = fit_result_dark.best_values[\"c\"]\n",
    "\n",
    "    ax.set_title(\n",
    "        \"Dark time (cumulative) {}\\n\"\n",
    "        r\"$Fit: {:.2f}\\cdot(1-exp(x/{:.2f}))+{:.2f}$\".format(label, a, t, c),loc=\"left\",fontsize=14)\n",
    "    data = pooled_locs.dark\n",
    "    data.sort()\n",
    "    y = np.arange(1, len(data) + 1)\n",
    "\n",
    "    ax.semilogx(data, y, c=color, label=\"Data\")\n",
    "    ax.semilogx(data, fit_result_dark.best_fit, c=red, label=\"Fit\")\n",
    "    ax.legend(loc=\"best\")\n",
    "    ax.set_xlabel(\"Duration (frames)\")\n",
    "    ax.set_ylabel(\"Frequency\")\n",
    "    \n",
    "    return ax\n",
    "\n",
    "\n",
    "def save_ring_locs(locs, info, path, file_id, pick, id, link=False):\n",
    "    \n",
    "    if link:\n",
    "        ending = \"_link.hdf5\"\n",
    "    else:\n",
    "        ending = \".hdf5\"\n",
    "       \n",
    "    locs.x /= 130\n",
    "    locs.y /= 130\n",
    "    \n",
    "    locs_name = \"file_{}_pick_{}_ring_{}{}\".format(file_id, pick, id, ending)\n",
    "    locs_path = os.path.join(path,\"ring_locs\")\n",
    "    locs_path_name = os.path.join(locs_path, locs_name)\n",
    "    \n",
    "    if not os.path.isdir(locs_path):\n",
    "        os.makedirs(locs_path)\n",
    "    \n",
    "    io.save_locs(locs_path_name, locs, info)\n",
    "\n",
    "    \n",
    "def export_pick_img(locs, path, file_id, pick, id, link=False):\n",
    "    \n",
    "    if link:\n",
    "        ending = \"_link.png\"\n",
    "    else:\n",
    "        ending = \".png\"\n",
    "    \n",
    "    pixelsize = 130\n",
    "\n",
    "    export_locs = locs.copy()\n",
    "    \n",
    "    export_locs.x /= pixelsize\n",
    "    export_locs.y /= pixelsize\n",
    "    \n",
    "    x_min = np.min(export_locs.x)    \n",
    "    x_max = np.max(export_locs.x)\n",
    "    y_min = np.min(export_locs.y)\n",
    "    y_max = np.max(export_locs.y)\n",
    "\n",
    "    viewport =  (y_min, x_min), (y_max, x_max)\n",
    "    oversampling = 50\n",
    "    len_x, image = render(export_locs, viewport = viewport, oversampling=oversampling, blur_method=\"smooth\")\n",
    "    \n",
    "    img_name = \"file_{}_pick_{}_ring_{}{}\".format(file_id, pick, id, ending)\n",
    "    img_path = os.path.join(path,\"ring_images\")\n",
    "    img_path_name = os.path.join(img_path,img_name)\n",
    "    \n",
    "    if not os.path.isdir(img_path):\n",
    "        os.makedirs(img_path)\n",
    "    \n",
    "    plt.imsave(img_path_name, image, cmap=\"hot\")"
   ]
  },
  {
   "cell_type": "markdown",
   "metadata": {},
   "source": [
    "## Load data"
   ]
  },
  {
   "cell_type": "code",
   "execution_count": 3,
   "metadata": {},
   "outputs": [
    {
     "name": "stdout",
     "output_type": "stream",
     "text": [
      "34 HDF5 files found.\n",
      "34 HDF5 files found.\n"
     ]
    }
   ],
   "source": [
    "#path = gui_fname()\n",
    "path = r'X:\\users\\kcramer\\sporPAINT\\DivIVA_FtsZ\\spor'\n",
    "\n",
    "div_path = os.path.join(path, \"div\")\n",
    "fts_path = os.path.join(path, \"fts\")\n",
    "div_filenames = load_files(div_path)\n",
    "fts_filenames = load_files(fts_path)\n",
    "\n",
    "plotting = True\n",
    "max_dist = 130 #nanometer\n",
    "max_dark_time = 15 #frames\n",
    "binning = 50 # binning for peak histogram\n"
   ]
  },
  {
   "cell_type": "markdown",
   "metadata": {},
   "source": [
    "## Main loop"
   ]
  },
  {
   "cell_type": "code",
   "execution_count": 4,
   "metadata": {
    "scrolled": true
   },
   "outputs": [
    {
     "data": {
      "application/vnd.jupyter.widget-view+json": {
       "model_id": "9aad7fad2bac4cbe974abeff04cc88e5",
       "version_major": 2,
       "version_minor": 0
      },
      "text/plain": [
       "Processing files:   0%|          | 0/34 [00:00<?, ?it/s]"
      ]
     },
     "metadata": {},
     "output_type": "display_data"
    },
    {
     "name": "stdout",
     "output_type": "stream",
     "text": [
      "Current file: 200717_exch_kcb300_fov1_dp_DivIVA_1_drift_aligned_picked.hdf5\n"
     ]
    },
    {
     "data": {
      "application/vnd.jupyter.widget-view+json": {
       "model_id": "ae4dafeeed5240df82f4f5b55b30e1b1",
       "version_major": 2,
       "version_minor": 0
      },
      "text/plain": [
       "Processing picks:   0%|          | 0/4 [00:00<?, ?it/s]"
      ]
     },
     "metadata": {},
     "output_type": "display_data"
    },
    {
     "name": "stdout",
     "output_type": "stream",
     "text": [
      "[array([16.76459616, 99.64642665, 42.24654445]), array([ 90.55895446, 251.28649515,  60.7716169 ])]\n",
      "[array([ 65.12153427, 145.0869123 ,  17.74042462]), array([ 73.16743622, 250.14547834,  38.5088695 ])]\n",
      "[array([ 71.75146411, 163.17093649,  22.92096593]), array([ 51.06819938, 244.54088679,  14.80385912])]\n"
     ]
    },
    {
     "name": "stderr",
     "output_type": "stream",
     "text": [
      "Z:\\users\\reinhardt\\z.software\\PythonEnvironment\\envs\\spor_paint\\lib\\site-packages\\scipy\\optimize\\minpack.py:834: OptimizeWarning: Covariance of the parameters could not be estimated\n",
      "  category=OptimizeWarning)\n"
     ]
    },
    {
     "name": "stdout",
     "output_type": "stream",
     "text": [
      "[array([-11.10371458,   6.55686603,  -0.24897205]), array([ 45.08752944, 224.89339234,  97.81543738])]\n",
      "Current file: 200716_exch_new_test_fov1_dp_DivIVA_1_aligned_picked.hdf5\n"
     ]
    },
    {
     "data": {
      "application/vnd.jupyter.widget-view+json": {
       "model_id": "c2be3b5b47744801a8a3abb2d10598f4",
       "version_major": 2,
       "version_minor": 0
      },
      "text/plain": [
       "Processing picks:   0%|          | 0/5 [00:00<?, ?it/s]"
      ]
     },
     "metadata": {},
     "output_type": "display_data"
    },
    {
     "name": "stdout",
     "output_type": "stream",
     "text": [
      "[array([ 95.21583927, 175.02452002,  23.93245131]), array([ 36.68062178, 274.03396335,  27.07886381])]\n",
      "[array([101.0630009 , 184.84407903,  55.86962794]), array([ 75.08087079, 237.45847003,  15.36644332])]\n",
      "[array([ 28.67706311, 273.91374865,  29.69851041]), array([102.26957253, 394.43682265,  24.23770988])]\n",
      "[array([ 40.6275807 , 122.81262677,  28.78715904]), array([ 44.79784597, 218.81050552,  41.278911  ])]\n",
      "[array([ 61.45893985, 205.05890506,  72.51147521]), array([ 44.42115503, 266.75435193,  15.67730775])]\n",
      "Current file: 20200228_round7_FOV2_3d_dp_DivIVA_1_aligned_picked.hdf5\n"
     ]
    },
    {
     "data": {
      "application/vnd.jupyter.widget-view+json": {
       "model_id": "ae61fe1b55044ddeb55d758d4ec2bb36",
       "version_major": 2,
       "version_minor": 0
      },
      "text/plain": [
       "Processing picks:   0%|          | 0/10 [00:00<?, ?it/s]"
      ]
     },
     "metadata": {},
     "output_type": "display_data"
    },
    {
     "name": "stdout",
     "output_type": "stream",
     "text": [
      "[array([ 39.88303432, 217.54721454,  49.72292341]), array([ 68.96999545, 367.49481443,  40.80711543])]\n",
      "[array([103.35173519, 286.69855744,  69.22920114]), array([ 69.61074638, 388.07375373,   2.47979275])]\n",
      "[array([ 57.63766087, 111.69332994,  14.80245248]), array([ 27.15203577, 184.6994021 ,  85.64603552])]\n",
      "[array([ 86.12954521, 244.2839309 ,  26.44723358]), array([ 87.46470451, 433.30752187,  35.69901877])]\n",
      "[array([37.33508685, 74.16323761, 21.6304086 ]), array([112.11512807, 171.20879886,  19.67674308])]\n",
      "[array([ 27.08088707, 131.89097122,  29.57770474]), array([ 43.53024099, 233.45143027,  24.63806447])]\n",
      "[array([-121.92661242,  559.9046575 ,  110.39600082]), array([ 336.8730946 , 1014.66278506,  341.56485979])]\n",
      "[array([ 35.60029941, 243.29358903,  81.92109709]), array([ -9.97141371, 259.57311741,  30.24529479])]\n",
      "[array([ 36.37951283, 181.74085927,  19.56871286]), array([ 19.89264616, 279.72387018,  57.72442891])]\n",
      "[array([ 39.26813589, 145.28727501,  42.67464615]), array([ 38.20886607, 242.00374168,  40.86486832])]\n",
      "Current file: 200717_exch_kcb300_fov4_dp_DivIVA_1_drift_align_picked.hdf5\n"
     ]
    },
    {
     "data": {
      "application/vnd.jupyter.widget-view+json": {
       "model_id": "5e8a358e7e2b40199fe4b640fc39d5a6",
       "version_major": 2,
       "version_minor": 0
      },
      "text/plain": [
       "Processing picks:   0%|          | 0/6 [00:00<?, ?it/s]"
      ]
     },
     "metadata": {},
     "output_type": "display_data"
    },
    {
     "name": "stdout",
     "output_type": "stream",
     "text": [
      "[array([69.1376255 , 81.19425491, 26.51852208]), array([110.75205125, 204.9160487 ,  50.30713451])]\n",
      "[array([ 95.82518889, 200.6888167 ,  30.37021508]), array([146.6273153 , 319.14903879,  48.42542599])]\n",
      "[array([ 71.74050653, 189.64775007,  24.45604666]), array([138.79270313, 306.06588719,  27.79952355])]\n",
      "[array([ 40.49296014, 170.01240402,   9.29396371]), array([ 74.4781598 , 290.76737443,  86.8692221 ])]\n",
      "[array([ 97.34322929, 212.09800442,  22.69765284]), array([ 67.95526001, 313.92086232,  44.71152019])]\n",
      "[array([31.45378597, 92.02917292, 29.17307398]), array([ 94.59269795, 230.00452974,  50.76428781])]\n",
      "Current file: 200619_exchange2_fov1_DivIVA_dp_1_aligned_picked.hdf5\n"
     ]
    },
    {
     "data": {
      "application/vnd.jupyter.widget-view+json": {
       "model_id": "f3c7feb00a7e4f32ab201feba2c9c5f8",
       "version_major": 2,
       "version_minor": 0
      },
      "text/plain": [
       "Processing picks:   0%|          | 0/1 [00:00<?, ?it/s]"
      ]
     },
     "metadata": {},
     "output_type": "display_data"
    },
    {
     "name": "stdout",
     "output_type": "stream",
     "text": [
      "[array([ 92.33299664,  71.20393986, -22.26171779]), array([ 68.58534531, 172.24435338,  24.42150663])]\n",
      "Current file: 042620_spor_exh_fov2_60min_DivIVA_aligned_picked.hdf5\n"
     ]
    },
    {
     "data": {
      "application/vnd.jupyter.widget-view+json": {
       "model_id": "25687bd89f3b40b08c197570c65fb2f2",
       "version_major": 2,
       "version_minor": 0
      },
      "text/plain": [
       "Processing picks:   0%|          | 0/7 [00:00<?, ?it/s]"
      ]
     },
     "metadata": {},
     "output_type": "display_data"
    },
    {
     "name": "stdout",
     "output_type": "stream",
     "text": [
      "[array([ 97.54233835, 210.77253372,  28.83767491]), array([167.25206542, 313.42104319,  67.39285952])]\n",
      "[array([183.82613518, 165.97685581,  36.70459863]), array([ 94.80585812, 292.24759776,  31.7914688 ])]\n",
      "[array([173.07381043, 165.1834431 ,  38.75438362]), array([372.26648314, 270.53807345,  23.68145052])]\n",
      "[[0, 0, 0], [1000, 1000, 1000]]\n"
     ]
    },
    {
     "name": "stderr",
     "output_type": "stream",
     "text": [
      "Z:\\users\\reinhardt\\z.software\\PythonEnvironment\\envs\\spor_paint\\lib\\site-packages\\ipykernel_launcher.py:68: RuntimeWarning: divide by zero encountered in true_divide\n",
      "Z:\\users\\reinhardt\\z.software\\PythonEnvironment\\envs\\spor_paint\\lib\\site-packages\\ipykernel_launcher.py:68: RuntimeWarning: invalid value encountered in true_divide\n"
     ]
    },
    {
     "name": "stdout",
     "output_type": "stream",
     "text": [
      "[array([  25.02805833,  260.89683029, -134.80542282]), array([287.74058157, 273.15320157,  40.73775531])]\n",
      "[array([ 35.9513371 , 194.00060169,  92.06943843]), array([141.81253023, 326.8465034 ,  37.03528273])]\n",
      "[array([110.70951128, 181.5400112 ,  60.36919638]), array([106.75637282, 238.47295632,  12.19560225])]\n",
      "Current file: 042620_spor_exh_fov6_60min_DivIVA_dp_1_drift_aligned_picked.hdf5\n"
     ]
    },
    {
     "data": {
      "application/vnd.jupyter.widget-view+json": {
       "model_id": "36a70a4802c74b56a0918793d52a8680",
       "version_major": 2,
       "version_minor": 0
      },
      "text/plain": [
       "Processing picks:   0%|          | 0/5 [00:00<?, ?it/s]"
      ]
     },
     "metadata": {},
     "output_type": "display_data"
    },
    {
     "name": "stdout",
     "output_type": "stream",
     "text": [
      "[array([ 12.23915637,  77.33250161, 133.61316323]), array([159.76518147, 273.40310883,  60.80042551])]\n",
      "[array([334.1956731 , 124.33013051, -23.37462277]), array([ 37.89679429, 251.43174621,  56.28188262])]\n",
      "[array([292.92098397, 105.29602675,  22.65002245]), array([229.99285408, 174.59408842,  11.53581316])]\n",
      "[array([ 94.30720241, 220.68346412,  34.32319858]), array([ 95.49339334, 332.56960045,  50.38547021])]\n",
      "[array([203.09495663, 154.34974116,  25.57331758]), array([106.68143004, 250.3548683 ,  31.77860505])]\n",
      "Current file: 200522_test_fov1000_DivIVA_1_drift_aligned_picked.hdf5\n"
     ]
    },
    {
     "data": {
      "application/vnd.jupyter.widget-view+json": {
       "model_id": "5ee45960dde440958ad800630458c299",
       "version_major": 2,
       "version_minor": 0
      },
      "text/plain": [
       "Processing picks:   0%|          | 0/3 [00:00<?, ?it/s]"
      ]
     },
     "metadata": {},
     "output_type": "display_data"
    },
    {
     "name": "stdout",
     "output_type": "stream",
     "text": [
      "[array([ 84.32643923, 165.79094036,  68.90311284]), array([143.91376276, 239.3857601 ,  15.99601707])]\n",
      "[array([ 53.07250954, 119.74517476,  32.07187266]), array([117.64175937, 230.18440154,  34.84631619])]\n",
      "[array([ 93.48037026, 133.2828747 ,  41.10608137]), array([ 45.63679217, 247.50975815,  22.84074327])]\n",
      "Current file: 042320_fov3_exch_DivIVA_dp_1_DRIFT_align_picked.hdf5\n"
     ]
    },
    {
     "data": {
      "application/vnd.jupyter.widget-view+json": {
       "model_id": "e731217479f84471a16809a958cb8762",
       "version_major": 2,
       "version_minor": 0
      },
      "text/plain": [
       "Processing picks:   0%|          | 0/3 [00:00<?, ?it/s]"
      ]
     },
     "metadata": {},
     "output_type": "display_data"
    },
    {
     "name": "stdout",
     "output_type": "stream",
     "text": [
      "[array([112.39562571, 106.18104277,  31.84709551]), array([ 80.30204579, 220.40708726,  23.26718411])]\n",
      "[array([162.96454076, 149.31459519,  27.48831206]), array([ 58.46785764, 257.36061107,  30.42099248])]\n"
     ]
    },
    {
     "name": "stderr",
     "output_type": "stream",
     "text": [
      "Z:\\users\\reinhardt\\z.software\\PythonEnvironment\\envs\\spor_paint\\lib\\site-packages\\scipy\\optimize\\minpack.py:834: OptimizeWarning: Covariance of the parameters could not be estimated\n",
      "  category=OptimizeWarning)\n"
     ]
    },
    {
     "name": "stdout",
     "output_type": "stream",
     "text": [
      "[array([100.05749761, 239.89929528,  73.98173011]), array([-52486.08299431,   5524.26443544,   -562.58447796])]\n",
      "Current file: 042620_spor_exh_fov4_60min_DivIVA_dp_picked.hdf5\n"
     ]
    },
    {
     "data": {
      "application/vnd.jupyter.widget-view+json": {
       "model_id": "eeec4553ac2a44a68c5e762d9f3861b7",
       "version_major": 2,
       "version_minor": 0
      },
      "text/plain": [
       "Processing picks:   0%|          | 0/11 [00:00<?, ?it/s]"
      ]
     },
     "metadata": {},
     "output_type": "display_data"
    },
    {
     "name": "stdout",
     "output_type": "stream",
     "text": [
      "[array([402.58061822, 294.06127994,  68.91484817]), array([ 13.22444723, 514.296207  , -31.56256295])]\n",
      "[array([310.4689186 , 163.71440025,  26.34190658]), array([197.58753183, 256.92413538,  34.41536014])]\n",
      "[array([ 77.87020769, 111.16637689,  13.92551213]), array([ 94.80458499, 196.2312273 ,  75.91865207])]\n",
      "[array([ 61.23172957, 134.98051909,  10.42139496]), array([243.39526799, 201.48104694,  56.03886094])]\n",
      "[array([422.87705517, 153.05302232,  29.04973288]), array([ 90.15456891, 268.75304112,  55.55169969])]\n",
      "[array([525.32958791, 102.3153749 , -30.94214238]), array([188.19444099, 207.09525024,  42.17422395])]\n",
      "[array([150.88793295, 176.54904382,  36.85864343]), array([214.16885161, 307.90319564,  43.50343997])]\n",
      "[array([173.76364234, 150.95120285,  15.66359006]), array([121.90876328, 223.10960336,  64.45432675])]\n",
      "[array([132.34480328, 169.5185731 ,  36.37681082]), array([201.68628337, 281.68315658,  32.42249879])]\n",
      "[array([43.82639588, 62.93200169,  6.29901387]), array([100.21624014, 137.41300415,  57.37618717])]\n",
      "[array([242.2768453 , 129.57494964,  39.64782686]), array([205.94127069, 238.14402479,  35.91094157])]\n",
      "Current file: 200717_exch_kcb300_fov2_dp_DivIVA_1_aligned_picked.hdf5\n"
     ]
    },
    {
     "data": {
      "application/vnd.jupyter.widget-view+json": {
       "model_id": "c5a82977c9eb45e99b5c0da2a1b1aedd",
       "version_major": 2,
       "version_minor": 0
      },
      "text/plain": [
       "Processing picks:   0%|          | 0/8 [00:00<?, ?it/s]"
      ]
     },
     "metadata": {},
     "output_type": "display_data"
    },
    {
     "name": "stdout",
     "output_type": "stream",
     "text": [
      "[array([168.11808142, 225.74695291,  33.93662888]), array([112.90713759, 381.50087367,  37.40222808])]\n",
      "[array([167.44375943, 311.93748689,  43.30701801]), array([113.72951977, 440.74084309,  25.64378039])]\n",
      "[array([ 52.82472264, 155.9758406 ,  32.45349767]), array([ 83.81725992, 364.48100585,  73.27686434])]\n",
      "[array([ 81.07522576, 233.29102242,  36.06711957]), array([ 82.76335592, 346.03933814,  24.79337509])]\n",
      "[array([ 47.06662383, 137.19160843,  32.82816496]), array([ 64.3454611 , 258.86141386,  52.70551509])]\n",
      "[array([ 39.12604672, 164.07167078,  37.71152484]), array([ 66.52298119, 258.16303579,  25.34669198])]\n",
      "[array([ 63.13975011, 239.08440978,  67.3025245 ]), array([ 57.27352157, 399.44826724,  32.783208  ])]\n",
      "[array([ 21.99009283, 145.0160018 ,  49.9938334 ]), array([ 71.59231349, 289.27729003,  39.53617376])]\n",
      "Current file: 200618_exchange1_fov2_redo_DivIVA_dp_1_drift_aligned_picked.hdf5\n"
     ]
    },
    {
     "data": {
      "application/vnd.jupyter.widget-view+json": {
       "model_id": "7fe034200dd64a7f8d3a580d6327a8f5",
       "version_major": 2,
       "version_minor": 0
      },
      "text/plain": [
       "Processing picks:   0%|          | 0/1 [00:00<?, ?it/s]"
      ]
     },
     "metadata": {},
     "output_type": "display_data"
    },
    {
     "name": "stdout",
     "output_type": "stream",
     "text": [
      "[array([65.02966862, 83.30187985, 53.30936066]), array([197.68013119, 222.48248047,  23.20382656])]\n",
      "Current file: 200618_exchange1_fov7_DivIVA_dp_1_drift_aligned_picked.hdf5\n"
     ]
    },
    {
     "data": {
      "application/vnd.jupyter.widget-view+json": {
       "model_id": "97d61d19711f4e99a4e35fd5e411b204",
       "version_major": 2,
       "version_minor": 0
      },
      "text/plain": [
       "Processing picks:   0%|          | 0/2 [00:00<?, ?it/s]"
      ]
     },
     "metadata": {},
     "output_type": "display_data"
    },
    {
     "name": "stdout",
     "output_type": "stream",
     "text": [
      "[array([72.15729165, 96.71051732, 38.53082035]), array([ 97.87236464, 192.45403199,  39.72801725])]\n",
      "[array([198.23140554, 162.23280021,  48.30860397]), array([ 48.52884845, 282.17455205,  19.2812739 ])]\n",
      "Current file: 200618_exchange1_fov8_DivIVA_dp_1_aligned_picked.hdf5\n"
     ]
    },
    {
     "data": {
      "application/vnd.jupyter.widget-view+json": {
       "model_id": "9e5f4af9aade4b45819abcafa677b532",
       "version_major": 2,
       "version_minor": 0
      },
      "text/plain": [
       "Processing picks:   0%|          | 0/1 [00:00<?, ?it/s]"
      ]
     },
     "metadata": {},
     "output_type": "display_data"
    },
    {
     "name": "stdout",
     "output_type": "stream",
     "text": [
      "[array([24.68799935, 48.65256422, 41.54513463]), array([ 98.37594162, 169.96143503,  41.54937706])]\n",
      "Current file: 200717_exch_kcb300_fov3_dp_DivIVA_1_align_picked.hdf5\n"
     ]
    },
    {
     "data": {
      "application/vnd.jupyter.widget-view+json": {
       "model_id": "345c4f85f4274062914467a855e3f070",
       "version_major": 2,
       "version_minor": 0
      },
      "text/plain": [
       "Processing picks:   0%|          | 0/8 [00:00<?, ?it/s]"
      ]
     },
     "metadata": {},
     "output_type": "display_data"
    },
    {
     "name": "stdout",
     "output_type": "stream",
     "text": [
      "[array([ 66.51024457, 199.95889932,  69.34999918]), array([ 81.44675283, 351.10622773,  45.18481798])]\n",
      "[array([ 52.78085015, 128.53968252,  64.14708587]), array([123.72948668, 279.39436806,  52.93417816])]\n",
      "[array([131.52195954, 178.89086553,  28.31371325]), array([ 87.80345183, 298.00798556,  39.55382906])]\n",
      "[array([103.80001712, 184.32133506,  39.74986667]), array([ 33.6006087 , 321.54204011,  30.6610232 ])]\n",
      "[array([ 45.04524009, 165.5578077 ,  49.1305613 ]), array([ 36.4401868 , 282.46089165,  12.63815713])]\n",
      "[array([ 22.31835649, 210.34451181,  91.300851  ]), array([ 15.17514902, 375.48178817,  19.61251663])]\n",
      "[array([ 19.80905042, 125.26658398,  17.32319025]), array([ 10.34177408, 257.98246287,  92.09153385])]\n",
      "[array([ 25.79632426, 223.06925121,  52.7735202 ]), array([ 34.91155219, 351.31640471,  17.23564412])]\n",
      "Current file: 200619_exchange2_fov2_DivIVA_dp_1_drift_aligned_picked.hdf5\n"
     ]
    },
    {
     "data": {
      "application/vnd.jupyter.widget-view+json": {
       "model_id": "5c953278d75a42bf94509fce661ecb6f",
       "version_major": 2,
       "version_minor": 0
      },
      "text/plain": [
       "Processing picks:   0%|          | 0/5 [00:00<?, ?it/s]"
      ]
     },
     "metadata": {},
     "output_type": "display_data"
    },
    {
     "name": "stdout",
     "output_type": "stream",
     "text": [
      "[array([120.27319248,  70.54587445, -27.04673508]), array([215.42640893, 197.90770811,  49.81853887])]\n",
      "[array([164.03322629,  80.81540837,  21.87607343]), array([175.21621858, 141.01236687,  26.05665225])]\n",
      "[array([45.09761552, 94.17839511, 25.90109004]), array([ 15.23666177, 240.36306665, 117.06962852])]\n",
      "[array([39.09375272, 78.54372724, 17.42868512]), array([ 40.80903572, 211.21106683, 105.36741912])]\n"
     ]
    },
    {
     "name": "stderr",
     "output_type": "stream",
     "text": [
      "Z:\\users\\reinhardt\\z.software\\PythonEnvironment\\envs\\spor_paint\\lib\\site-packages\\scipy\\optimize\\minpack.py:834: OptimizeWarning: Covariance of the parameters could not be estimated\n",
      "  category=OptimizeWarning)\n"
     ]
    },
    {
     "name": "stdout",
     "output_type": "stream",
     "text": [
      "[array([-2806.03411118,  -829.02460803,   -84.04306458]), array([ 49.86151652, 190.51361223,  73.67774326])]\n",
      "Current file: 200618_exchange1_fov1_DivIVA_DP_1_drift_aligned_picked.hdf5\n"
     ]
    },
    {
     "data": {
      "application/vnd.jupyter.widget-view+json": {
       "model_id": "2567fa2c0c4b4ec8887cc8ec2af5dff7",
       "version_major": 2,
       "version_minor": 0
      },
      "text/plain": [
       "Processing picks:   0%|          | 0/3 [00:00<?, ?it/s]"
      ]
     },
     "metadata": {},
     "output_type": "display_data"
    },
    {
     "name": "stdout",
     "output_type": "stream",
     "text": [
      "[array([ 65.13295196, 107.90203093,  13.05364106]), array([ 85.52741842, 131.6996944 ,  50.42053346])]\n",
      "[array([161.87140084, 165.74193602,  55.83299976]), array([ 78.93040793, 271.31118418,  13.82113677])]\n",
      "[array([88.39678873, 69.18273027, 30.4176558 ]), array([ 99.35417025, 199.6937083 ,  64.64682788])]\n",
      "Current file: 200203_CONDTN2_fov1_DivIVA_1_drift_aligned_picked.hdf5\n"
     ]
    },
    {
     "data": {
      "application/vnd.jupyter.widget-view+json": {
       "model_id": "8b74955a7f7d4da38808764657269495",
       "version_major": 2,
       "version_minor": 0
      },
      "text/plain": [
       "Processing picks:   0%|          | 0/10 [00:00<?, ?it/s]"
      ]
     },
     "metadata": {},
     "output_type": "display_data"
    },
    {
     "name": "stdout",
     "output_type": "stream",
     "text": [
      "[array([ 42.77898047, 235.74256394,  89.92587077]), array([ 72.61818973, 279.28421387,  26.18826339])]\n",
      "[array([ 36.75443357, 159.64829076,  13.54878806]), array([ 65.01034231, 161.10860839, 104.41938574])]\n",
      "[array([ 73.95186868, 125.73661805,  24.42408057]), array([122.47243821, 219.5592685 ,  23.01870312])]\n",
      "[array([ 36.58714313, 141.14061707,   6.3937101 ]), array([ 44.70744951, 228.93372291,  92.94179771])]\n",
      "[array([112.57127473, 226.29754195,  31.91829573]), array([133.09983384, 336.008352  ,  29.92977891])]\n",
      "[array([ 25.89846662, 200.24936017,  88.80243391]), array([ 22.62201153, 313.7795145 ,  11.6324719 ])]\n",
      "[array([ 54.59882902, 212.10652996,  63.17030659]), array([  5.2499564 , 422.86439302,  33.28275681])]\n",
      "[array([ 59.34537038, 303.44375759,  68.86602299]), array([ 68.08675655, 348.30126892,  17.56056974])]\n",
      "[array([ 33.64752442, 192.8174509 ,  34.46898697]), array([ 67.19777101, 309.65301261,  52.15461103])]\n",
      "[array([15.68021144, 83.4242786 ,  4.40168747]), array([ 33.50269024, 166.92258585,  74.85415265])]\n",
      "Current file: 042620_spor_exh_fov5_60min_DivIVA_dp_1_picked.hdf5\n"
     ]
    },
    {
     "data": {
      "application/vnd.jupyter.widget-view+json": {
       "model_id": "edd08fdbfd224abaa2cf9357bd5b826e",
       "version_major": 2,
       "version_minor": 0
      },
      "text/plain": [
       "Processing picks:   0%|          | 0/6 [00:00<?, ?it/s]"
      ]
     },
     "metadata": {},
     "output_type": "display_data"
    },
    {
     "name": "stdout",
     "output_type": "stream",
     "text": [
      "[array([ 44.75111487, 146.35271114,  45.01126727]), array([ 88.78278707, 285.27154995,  57.42021902])]\n",
      "[array([ 90.23060181, 203.42595762,  33.62601602]), array([ 90.33073432, 287.58458047,  28.3496186 ])]\n",
      "[array([150.10757979, 146.44123595,  12.07841218]), array([125.72446929, 181.91504148,  37.84842629])]\n",
      "[array([101.10962019, 194.97046496,  27.9394018 ]), array([ 63.71770959, 309.86816055,  28.00178541])]\n",
      "[array([ 53.53840721, 113.99345715,  25.5280794 ]), array([ 52.50324374, 208.70080336,  23.48266148])]\n",
      "[array([ 85.92078453, 142.62391347,   5.47676327]), array([ 23.81061585, 150.29493684,  79.84775518])]\n",
      "Current file: 200716_exch_new_fov21_dp_DivIVA_1_aligned_picked.hdf5\n"
     ]
    },
    {
     "data": {
      "application/vnd.jupyter.widget-view+json": {
       "model_id": "e1eeecce3f5d4ba0a3f3e750697f3201",
       "version_major": 2,
       "version_minor": 0
      },
      "text/plain": [
       "Processing picks:   0%|          | 0/3 [00:00<?, ?it/s]"
      ]
     },
     "metadata": {},
     "output_type": "display_data"
    },
    {
     "name": "stdout",
     "output_type": "stream",
     "text": [
      "[array([105.19425482, 233.84202944,  34.98505668]), array([ 95.72054007, 340.30637078,  26.61641384])]\n",
      "[array([ 47.07321619, 268.32000273,  16.86884676]), array([ 31.78297583, 322.17617582, 102.57968311])]\n",
      "[array([ 33.4643893 , 140.03958612,  45.18168399]), array([ 65.6678993 , 309.43455749,  37.22605836])]\n",
      "Current file: 042320_fov2_exch_DivIVA_dp_1_drift_aligned_picked.hdf5\n"
     ]
    },
    {
     "data": {
      "application/vnd.jupyter.widget-view+json": {
       "model_id": "dc262db8cfa64830990ef9a50fb85536",
       "version_major": 2,
       "version_minor": 0
      },
      "text/plain": [
       "Processing picks:   0%|          | 0/2 [00:00<?, ?it/s]"
      ]
     },
     "metadata": {},
     "output_type": "display_data"
    },
    {
     "name": "stdout",
     "output_type": "stream",
     "text": [
      "[array([ 81.99011228, 177.0844244 ,  66.26058362]), array([132.41376625, 264.96584741,  13.67537085])]\n",
      "[array([109.05145113, 151.00071758,  53.76561465]), array([ 49.92468599, 218.51465841,  18.8681744 ])]\n",
      "Current file: 042620_spor_exh_fov8_60min_DivIVA_dp_1_aligned_picked.hdf5\n"
     ]
    },
    {
     "data": {
      "application/vnd.jupyter.widget-view+json": {
       "model_id": "a6b53fe6273c49349e5587db7b5ed030",
       "version_major": 2,
       "version_minor": 0
      },
      "text/plain": [
       "Processing picks:   0%|          | 0/6 [00:00<?, ?it/s]"
      ]
     },
     "metadata": {},
     "output_type": "display_data"
    },
    {
     "name": "stdout",
     "output_type": "stream",
     "text": [
      "[array([ 44.12481754, 223.75116982,  44.35482883]), array([ 47.19031088, 277.34469529, 138.30621011])]\n"
     ]
    },
    {
     "name": "stderr",
     "output_type": "stream",
     "text": [
      "Z:\\users\\reinhardt\\z.software\\PythonEnvironment\\envs\\spor_paint\\lib\\site-packages\\scipy\\optimize\\minpack.py:834: OptimizeWarning: Covariance of the parameters could not be estimated\n",
      "  category=OptimizeWarning)\n"
     ]
    },
    {
     "name": "stdout",
     "output_type": "stream",
     "text": [
      "[array([  9.49647708, 146.95774053,  -0.23094803]), array([100.77005696, 254.40754447,  82.8832812 ])]\n",
      "[array([122.33698393, 208.27049226,  33.71696722]), array([ 36.90403409, 348.96785967,  41.54109239])]\n",
      "[array([ 92.61214699, 303.06095641,  52.78101016]), array([ 36.31185297, 450.59420623,  30.40160492])]\n",
      "[array([107.05249874, 206.73107293,  35.27753583]), array([ 50.46090508, 310.39337396,  18.90626022])]\n",
      "[array([ 63.69476132, 184.43019142,  53.46384341]), array([ 35.52322488, 316.13625914,  32.27590277])]\n",
      "Current file: 200716_exch_new_fov23_dp_DivIVA_2_drift_aligned_picked.hdf5\n"
     ]
    },
    {
     "data": {
      "application/vnd.jupyter.widget-view+json": {
       "model_id": "c520cf2f2691449386d3f15660ec2dca",
       "version_major": 2,
       "version_minor": 0
      },
      "text/plain": [
       "Processing picks:   0%|          | 0/7 [00:00<?, ?it/s]"
      ]
     },
     "metadata": {},
     "output_type": "display_data"
    },
    {
     "name": "stdout",
     "output_type": "stream",
     "text": [
      "[array([130.37639841, 180.33734504,  34.4744073 ]), array([ 96.36237071, 270.61062814,  28.19314666])]\n",
      "[array([168.81910327, 213.10679158,  41.36934089]), array([ 99.7813933 , 323.92889104,  29.11992454])]\n",
      "[array([110.64654469, 219.6514208 ,  78.2840767 ]), array([-65.29903616, 274.48523018,  40.34797131])]\n",
      "[array([100.82224276, 115.72801488,  15.94538765]), array([171.30046586, 213.20288668,  38.79582235])]\n",
      "[array([ 70.63409691, 105.15113028,  20.88163284]), array([ 91.84716283, 191.78178552,  43.62289043])]\n",
      "[array([140.30972668, 193.25512465,  29.19167757]), array([106.53229726, 296.75426781,  30.23002381])]\n",
      "[array([129.52677208, 181.72810158,  39.59324771]), array([ 70.05369598, 311.76455286,  28.54968899])]\n",
      "Current file: 200716_exch_old_test_fov1_dp_1_DivIVA_aligned_picked.hdf5\n"
     ]
    },
    {
     "data": {
      "application/vnd.jupyter.widget-view+json": {
       "model_id": "e1b6c5c4e4a444a680084f13aadca645",
       "version_major": 2,
       "version_minor": 0
      },
      "text/plain": [
       "Processing picks:   0%|          | 0/5 [00:00<?, ?it/s]"
      ]
     },
     "metadata": {},
     "output_type": "display_data"
    },
    {
     "name": "stdout",
     "output_type": "stream",
     "text": [
      "[array([ 57.28560901, 199.18740516, 103.1457807 ]), array([ 28.0037525 , 339.24113033,  21.54314427])]\n",
      "[array([22.14422048, 85.75787774,  9.54600231]), array([ 13.69136306, 209.54142899, 112.24107421])]\n",
      "[array([ 29.77461952, 187.40301451,  19.13465726]), array([ 45.46869252, 264.82050964,  36.13121994])]\n",
      "[[0, 0, 0], [1000, 1000, 1000]]\n"
     ]
    },
    {
     "name": "stderr",
     "output_type": "stream",
     "text": [
      "Z:\\users\\reinhardt\\z.software\\PythonEnvironment\\envs\\spor_paint\\lib\\site-packages\\ipykernel_launcher.py:68: RuntimeWarning: divide by zero encountered in true_divide\n",
      "Z:\\users\\reinhardt\\z.software\\PythonEnvironment\\envs\\spor_paint\\lib\\site-packages\\ipykernel_launcher.py:68: RuntimeWarning: invalid value encountered in true_divide\n"
     ]
    },
    {
     "name": "stdout",
     "output_type": "stream",
     "text": [
      "[array([ 25.17813033, 247.15153193,  88.73449375]), array([ 20.97635971, 327.72670053,  22.33320937])]\n",
      "Current file: 200716_exch_new_fov20_dp_DivIVA_1_aligned_picked.hdf5\n"
     ]
    },
    {
     "data": {
      "application/vnd.jupyter.widget-view+json": {
       "model_id": "49c3da5ae7a04fcbb43abaf3977c2f36",
       "version_major": 2,
       "version_minor": 0
      },
      "text/plain": [
       "Processing picks:   0%|          | 0/6 [00:00<?, ?it/s]"
      ]
     },
     "metadata": {},
     "output_type": "display_data"
    },
    {
     "name": "stdout",
     "output_type": "stream",
     "text": [
      "[array([ 88.69816423, 113.6263732 ,  23.3031829 ]), array([ 47.95399669, 200.59770082,  29.56736852])]\n",
      "[array([ 39.64378478, 142.86625991,  29.72357706]), array([ 76.96663913, 297.5058443 ,  83.35597088])]\n",
      "[array([ 73.81822013, 224.42279511,  57.4059369 ]), array([ 40.00506373, 349.6831801 ,  22.97550226])]\n",
      "[array([116.09229049, 260.34317688,  46.73917977]), array([140.81325637, 346.0893323 ,  22.42392835])]\n",
      "[array([ 44.87311584, 115.34577187,  32.74728324]), array([ 92.53197182, 194.43212278,  17.44619239])]\n",
      "[array([ 35.25256515, 239.68284488,  72.18485136]), array([ 34.03486157, 370.66228074,  26.13306942])]\n",
      "Current file: 200524_test_2pt0_fov0_dp_DivIVA_1_aligned_picked.hdf5\n"
     ]
    },
    {
     "data": {
      "application/vnd.jupyter.widget-view+json": {
       "model_id": "1a7c98161a0b43a0b17cd284bfe1997c",
       "version_major": 2,
       "version_minor": 0
      },
      "text/plain": [
       "Processing picks:   0%|          | 0/1 [00:00<?, ?it/s]"
      ]
     },
     "metadata": {},
     "output_type": "display_data"
    },
    {
     "name": "stdout",
     "output_type": "stream",
     "text": [
      "[array([ 48.04445485, 237.4292302 ,  80.68190791]), array([ 47.49978648, 361.58986036,  26.08868175])]\n",
      "Current file: 200716_exch_old_fov2_dp_DivIVA_1_drift_aligned_picked.hdf5\n"
     ]
    },
    {
     "data": {
      "application/vnd.jupyter.widget-view+json": {
       "model_id": "a52154fbbeac4c1382249b318c5d9a6e",
       "version_major": 2,
       "version_minor": 0
      },
      "text/plain": [
       "Processing picks:   0%|          | 0/6 [00:00<?, ?it/s]"
      ]
     },
     "metadata": {},
     "output_type": "display_data"
    },
    {
     "name": "stdout",
     "output_type": "stream",
     "text": [
      "[array([ 48.64153863, 240.67453108,  48.42632298]), array([ 64.27384151, 346.85101658,  18.22193469])]\n",
      "[array([ 53.15735774, 185.03049225,  13.13259882]), array([ 35.60103109, 287.97300347,  37.16112667])]\n",
      "[array([ 15.94520566, 111.58409554,   2.14877173]), array([ 39.06931844, 212.40321   ,  61.33271955])]\n",
      "[array([ 19.80073829, 126.61497003,  48.85357859]), array([ 21.63338516, 223.41852092,  24.60636899])]\n",
      "[array([ 27.51251362, 160.87141149,  23.82885141]), array([ 23.51736443, 279.20424777,  19.01995554])]\n",
      "[array([ 2.10598568, 54.5011358 , 26.14266198]), array([ 23.53199511, 222.46202857,  55.35331893])]\n",
      "Current file: 200524_2pt0_fov2_dp_diviva_1_drift_aligned_picked.hdf5\n",
      "ERROR: Could not find FtsZ file for 200524_2pt0_fov2_dp_diviva_1_drift_aligned_picked.hdf5\n",
      " Check file names again.\n"
     ]
    },
    {
     "data": {
      "application/vnd.jupyter.widget-view+json": {
       "model_id": "4b046504b6774a5a90818c9ada650b4b",
       "version_major": 2,
       "version_minor": 0
      },
      "text/plain": [
       "Processing picks:   0%|          | 0/1 [00:00<?, ?it/s]"
      ]
     },
     "metadata": {},
     "output_type": "display_data"
    },
    {
     "name": "stdout",
     "output_type": "stream",
     "text": [
      "[array([86.40685916, 70.54109143, 29.25573151]), array([128.35496644, 179.69233516,  23.24832078])]\n",
      "Current file: 200524_test_0p75_fov0_dp_DivIVA_1_aligned_picked.hdf5\n"
     ]
    },
    {
     "data": {
      "application/vnd.jupyter.widget-view+json": {
       "model_id": "317aab1ac3784397a24836f26abda61c",
       "version_major": 2,
       "version_minor": 0
      },
      "text/plain": [
       "Processing picks:   0%|          | 0/4 [00:00<?, ?it/s]"
      ]
     },
     "metadata": {},
     "output_type": "display_data"
    },
    {
     "name": "stdout",
     "output_type": "stream",
     "text": [
      "[array([ 23.09344832, 165.36008549,  67.72352138]), array([183.07439499, 204.68705695,  10.16564435])]\n",
      "[array([-39.91510587, 150.75846035,   2.2005865 ]), array([ 68.4341636 , 215.94274189,  76.9814054 ])]\n",
      "[array([ 57.58233759, 210.65411561,  79.56232233]), array([ 35.59888755, 289.96501801,  18.56288462])]\n",
      "[array([76.5847274 , 82.12382714, 19.24574507]), array([ 53.15529402, 157.30687692,  80.30743035])]\n",
      "Current file: 200717_exch_kcb300_fov5_dp_DivIVA_1_DRIFT_aligned_picked.hdf5\n"
     ]
    },
    {
     "data": {
      "application/vnd.jupyter.widget-view+json": {
       "model_id": "f921ede17c71460f87a43eecac4b13d0",
       "version_major": 2,
       "version_minor": 0
      },
      "text/plain": [
       "Processing picks:   0%|          | 0/7 [00:00<?, ?it/s]"
      ]
     },
     "metadata": {},
     "output_type": "display_data"
    },
    {
     "name": "stdout",
     "output_type": "stream",
     "text": [
      "[array([ 77.81118886, 172.10794449,  13.96975997]), array([ 82.72724647, 268.98135812,  81.56547686])]\n",
      "[array([170.6953896 , 248.82094083,  71.20770994]), array([116.15483486, 397.68688784,  17.60876673])]\n",
      "[array([ 42.42639231, 123.05831407,  62.17485731]), array([ 66.30169127, 277.16421905,  26.64977934])]\n",
      "[array([ 90.70053896, 243.59753326,  61.28447779]), array([ 71.606919  , 392.97821852,  23.27059161])]\n",
      "[array([101.04736578, 227.3522294 ,  30.68044476]), array([ 57.08534132, 338.48459301, 130.03983742])]\n",
      "[array([-87.22822408, 395.60712835,  78.63546148]), array([108.91041413, 476.48993891, 179.95476163])]\n",
      "[array([ 43.69285133, 215.6944541 ,  31.31487814]), array([ 37.69419921, 333.11412543,  20.14900244])]\n",
      "Current file: 200619_exchange2_fov4_DivIVA_dp_1_drift_aligned_picked.hdf5\n"
     ]
    },
    {
     "data": {
      "application/vnd.jupyter.widget-view+json": {
       "model_id": "085d892cb66149618535c3a5436f70a7",
       "version_major": 2,
       "version_minor": 0
      },
      "text/plain": [
       "Processing picks:   0%|          | 0/1 [00:00<?, ?it/s]"
      ]
     },
     "metadata": {},
     "output_type": "display_data"
    },
    {
     "name": "stdout",
     "output_type": "stream",
     "text": [
      "[array([ 69.72410935, 123.6580319 ,  42.07225715]), array([ 25.50366623, 238.04017001, 111.69414237])]\n",
      "Current file: 042620_spor_exh_fov3_60min_DivIVA_picked.hdf5\n"
     ]
    },
    {
     "data": {
      "application/vnd.jupyter.widget-view+json": {
       "model_id": "ed2c9af9cc874d359b3ba0ca58e85db8",
       "version_major": 2,
       "version_minor": 0
      },
      "text/plain": [
       "Processing picks:   0%|          | 0/5 [00:00<?, ?it/s]"
      ]
     },
     "metadata": {},
     "output_type": "display_data"
    },
    {
     "name": "stdout",
     "output_type": "stream",
     "text": [
      "[array([ 84.16148411, 139.20386786,  43.35293893]), array([ 66.42157634, 260.60940679,  46.83030892])]\n",
      "[array([ 87.63374992, 172.32010172,  34.68232611]), array([ 74.95923542, 293.40879306,  36.64425333])]\n",
      "[array([346.13649994, 172.46110323,  14.11029445]), array([201.706432  , 230.00962096,  80.9816994 ])]\n",
      "[array([133.2992661 , 164.64939874,  37.0638056 ]), array([186.81888778, 268.58005835,  28.50380098])]\n",
      "[array([211.73940799, 187.44100035,  19.7855038 ]), array([ 86.70524701, 248.91686023,  76.29390457])]\n",
      "Current file: spor_DivIVA_DivIVAandFtsZ_230516_apollo_kcb300_fov1_400pM-r2_DivIVA_DP_1_drift_aligned3_picked.hdf5\n",
      "ERROR: Could not find FtsZ file for spor_DivIVA_DivIVAandFtsZ_230516_apollo_kcb300_fov1_400pM-r2_DivIVA_DP_1_drift_aligned3_picked.hdf5\n",
      " Check file names again.\n"
     ]
    },
    {
     "data": {
      "application/vnd.jupyter.widget-view+json": {
       "model_id": "888e357783d94171b9a075c48fd19e3c",
       "version_major": 2,
       "version_minor": 0
      },
      "text/plain": [
       "Processing picks:   0%|          | 0/14 [00:00<?, ?it/s]"
      ]
     },
     "metadata": {},
     "output_type": "display_data"
    },
    {
     "name": "stdout",
     "output_type": "stream",
     "text": [
      "[array([379.11605805, 270.91160454, 116.25526811]), array([-92.81559407, 428.92971168,  18.42015815])]\n",
      "[array([161.68596637, 219.16411148,  77.1990888 ]), array([268.95729686, 308.72510594,  12.97426309])]\n",
      "[array([175.078115  , 144.90586459,  31.66184199]), array([153.59827505, 242.90724257,  22.64857341])]\n",
      "[array([206.93118437, 148.28879991,  28.51082867]), array([146.26812275, 248.92486863,  29.46769354])]\n",
      "[array([110.33850829, 164.13992602,  19.36270219]), array([138.97259318, 284.02225527,  71.45799096])]\n",
      "ERROR: Could not find peak for FtsZ ring. Pick will be ignored\n",
      "ERROR: Could not find peak for FtsZ ring. Pick will be ignored\n",
      "ERROR: Could not find peak for FtsZ ring. Pick will be ignored\n",
      "ERROR: Could not find peak for FtsZ ring. Pick will be ignored\n",
      "ERROR: Could not find peak for FtsZ ring. Pick will be ignored\n",
      "ERROR: Could not find peak for FtsZ ring. Pick will be ignored\n",
      "ERROR: Could not find peak for FtsZ ring. Pick will be ignored\n",
      "ERROR: Could not find peak for FtsZ ring. Pick will be ignored\n",
      "ERROR: Could not find peak for FtsZ ring. Pick will be ignored\n",
      "Current file: 200522_fov1002_bf_dp_DivIVA_1_drift_aligned_picked.hdf5\n"
     ]
    },
    {
     "data": {
      "application/vnd.jupyter.widget-view+json": {
       "model_id": "9c84bd6c25834bad99f410616ce55e80",
       "version_major": 2,
       "version_minor": 0
      },
      "text/plain": [
       "Processing picks:   0%|          | 0/1 [00:00<?, ?it/s]"
      ]
     },
     "metadata": {},
     "output_type": "display_data"
    },
    {
     "name": "stdout",
     "output_type": "stream",
     "text": [
      "[array([242.15421516, 149.51515533,  52.31935079]), array([137.92313679, 267.83325955,  24.27384646])]\n",
      "Calculation finished.\n",
      "Total: 91 rings analysed, 68 excluded.\n",
      "Data saved to CSV file in locs folder.\n"
     ]
    }
   ],
   "source": [
    "# initialize containers\n",
    "ring_data, fts_ring_data = [], []\n",
    "ring_locs,fts_ring_locs = {}, {}\n",
    "ring_locs_linked, fts_ring_locs_linked = {}, {}\n",
    "ring_kinetics, fts_ring_kinetics = {}, {}\n",
    "ring_kinetics_fit, fts_ring_kinetics_fit = {}, {}\n",
    "ring_radii, fts_ring_radii = {}, {}\n",
    "ring_rot, fts_ring_rot = {}, {}\n",
    "ring_angles,fts_ring_angles = {}, {}\n",
    "center, fts_center = {}, {}\n",
    "\n",
    "rings_excluded, fts_rings_excluded = [], []\n",
    "ring_n_events, fts_ring_n_events = {}, {}\n",
    "circle_plots, fts_circle_plots = {}, {}\n",
    "file_id = 0\n",
    "\n",
    "analysis_folder = os.path.join(path, \"analysis\")\n",
    "analysis_folder_excluded = os.path.join(analysis_folder, \"excluded\")\n",
    "\n",
    "# image export settings\n",
    "img_format = \".png\"\n",
    "dpi = 100\n",
    "\n",
    "# cutoff is mutliplied to the sigma of the peak fit for the seperation of the two rings\n",
    "# smaller cutoff means smaller ring sections\n",
    "cutoff = 1.25\n",
    "\n",
    "#prepare analysis folder\n",
    "if not os.path.isdir(analysis_folder):\n",
    "    os.makedirs(analysis_folder)\n",
    "    os.makedirs(analysis_folder_excluded)\n",
    "\n",
    "#iterate over locs in directory:\n",
    "for filename in tqdm(div_filenames, desc=\"Processing files\"):\n",
    "    \n",
    "    print(\"Current file: {}\".format(filename))\n",
    "    \n",
    "    file_id +=1\n",
    "    \n",
    "    #load DIV4A locs and convert distances from px to nm (Attention!)\n",
    "    locs, info, pixelsize = load_data(os.path.join(div_path, filename))\n",
    "    \n",
    "    #look for corresponding FtsZ file\n",
    "    fts_filename = filename.replace('DivIVA','ftsz')\n",
    "    \n",
    "    try:\n",
    "        fts_locs, fts_info, fts_pixelsize = load_data(os.path.join(fts_path, fts_filename))\n",
    "    except:\n",
    "        print('ERROR: Could not find FtsZ file for {}\\n Check file names again.'.format(filename))\n",
    "    \n",
    "    # iterate over picks in a file\n",
    "    for pick in tqdm(np.unique(locs.group), desc=\"Processing picks\"):\n",
    "     \n",
    "        # select locs from pick\n",
    "        pick_locs = locs[locs.group == pick]\n",
    "        fts_pick_locs = fts_locs[fts_locs.group == pick]\n",
    "        \n",
    "        ################\n",
    "        # (1) estimate the postition of the two rings using a histogram along the pick direction\n",
    "        #  a ring should yield a gaussian peak (2D projection in XY)\n",
    "        ################\n",
    "        \n",
    "        estimated_peaks, r_par, hist_data = find_peaks(pick_locs, binning=binning, axes=\"y\")\n",
    "        try:\n",
    "            fts_estimated_peak, fts_r_par, fts_hist_data = find_peak(fts_pick_locs, binning=binning, axes=\"y\")\n",
    "        except:\n",
    "            print('ERROR: Could not find peak for FtsZ ring. Pick will be ignored')\n",
    "            continue\n",
    "            \n",
    "        # estimated peaks form MeanShift analysis to initialize guassian fits\n",
    "        # r_par yields an array containing: [amplitued_1, center_1, width_1, amplitude_2, center_2, width_2]\n",
    "        \n",
    "        # seperate ring parameter to the corresponding ring\n",
    "        ring_parameter = []\n",
    "        for i in range(0, 4, 3):\n",
    "            ring_parameter.append(r_par[i: i+3])\n",
    "        print(ring_parameter)\n",
    "        fts_ring_parameter = [] # to work as the double band script\n",
    "        fts_ring_parameter.append(fts_r_par)\n",
    "            \n",
    "        if check_consistency(ring_parameter):\n",
    "        # check three criteria:\n",
    "        # i   distance between the peaks (30 nm < distance < 300 nm)\n",
    "        # ii  width of the gaussian fits of the peaks (ratio needs to be larger then 0.2 in both cases)\n",
    "        # iii \"signal strength\" of both rings should be similar (amplitude of the gaussian peak should be larger then 0.3)\n",
    "            \n",
    "            # set up plot with gridspec\n",
    "            fig = plt.figure(figsize=(14, 16), constrained_layout=True)\n",
    "            gs = fig.add_gridspec(3, 2)\n",
    "            fig.suptitle((\"Pick {} - Ring analysis\\n\"\n",
    "                          \"File: {}\").format(pick,filename),\n",
    "                          fontsize=16,\n",
    "                          ha=\"center\")\n",
    "            \n",
    "            ax1 = fig.add_subplot(gs[0, 0])\n",
    "           \n",
    "            plot_peak_dist(pick_locs,\n",
    "                           hist_data,\n",
    "                           estimated_peaks,\n",
    "                           r_par,\n",
    "                           binning=binning,\n",
    "                           cutoff=cutoff,\n",
    "                           axes=\"y\",\n",
    "                           ax=ax1)\n",
    "            \n",
    "            peak_dist = abs(ring_parameter[0][1]-ring_parameter[1][1])\n",
    "            fts_peak_dist = fts_ring_parameter[0][1]-ring_parameter[0][1]\n",
    "        \n",
    "            ################\n",
    "            # (2) isolate the locs from every ring\n",
    "            # fitted center +- peak-to-peak distance/2\n",
    "            ################\n",
    "            \n",
    "            #DIV4A\n",
    "            for id, ring in enumerate(ring_parameter):\n",
    "                \n",
    "                # isolate the locs from every ring\n",
    "                r_locs = isolate_ring(pick_locs, c=ring[1], w=ring[2], cutoff=cutoff, axes=\"y\")\n",
    "                ring_locs[id] = r_locs\n",
    "                \n",
    "                # link the isolated locs\n",
    "                r_locs_linked = link(r_locs, info, max_dist, max_dark_time)\n",
    "                ring_locs_linked[id] = r_locs_linked\n",
    "                \n",
    "                # extract number of locs\n",
    "                ring_n_events[id] = len(r_locs_linked)\n",
    "             \n",
    "            #FtsZ\n",
    "            for fts_id, fts_ring in enumerate(fts_ring_parameter):\n",
    "    \n",
    "                # isolate the locs from every ring\n",
    "                fts_r_locs = isolate_ring(fts_pick_locs, c=fts_ring[1], w=fts_ring[2], cutoff=cutoff, axes=\"y\")\n",
    "                fts_ring_locs[fts_id] = fts_r_locs\n",
    "                \n",
    "                # link the isolated locs\n",
    "                fts_r_locs_linked = link(fts_r_locs, fts_info, max_dist, max_dark_time)\n",
    "                fts_ring_locs_linked[fts_id] = fts_r_locs_linked\n",
    "                \n",
    "                # extract number of locs\n",
    "                fts_ring_n_events[fts_id] = len(fts_r_locs_linked)\n",
    "            \n",
    "              \n",
    "            ################\n",
    "            # (3b) calculate ring radius by rotation into plane of the ring and circle fitting in 2D projection\n",
    "            ################\n",
    "            \n",
    "            ax3 = fig.add_subplot(gs[1, 0])\n",
    "            ax5 = fig.add_subplot(gs[2, 0])\n",
    "            normal = {}\n",
    "            fts_normal = {}\n",
    "            \n",
    "            for id, rings in ring_locs.items():\n",
    "                \n",
    "                # prepare XYZ coordinates\n",
    "                XYZ = np.array([rings.x, rings.y, rings.z]).transpose()\n",
    "\n",
    "                # rotate coordinates into the plane of the ring. ring should be now in X-Y\n",
    "                ring_rot[id], normal[id] = rotate_ring(XYZ)\n",
    "                \n",
    "                # fit 2D ring into the XY ring data\n",
    "                x_center, y_center, Radius, residu = leastsq_circle(ring_rot[id][:,0], ring_rot[id][:,1])\n",
    "                \n",
    "                c = rodrigues_rot(np.array([x_center, y_center, 0]), [0,0,1], normal[id]) + XYZ.mean(axis=0)\n",
    "                center[id] = c.flatten()\n",
    "                \n",
    "                # extract radii\n",
    "                ring_radii[id] = Radius\n",
    "                \n",
    "                # plot\n",
    "                if id == 0:\n",
    "                    ax_circ = ax3\n",
    "                if id == 1:\n",
    "                    ax_circ = ax5\n",
    "                \n",
    "                plot_data_circle(ring_rot[id][:,0],\n",
    "                                 ring_rot[id][:,1],\n",
    "                                 x_center,\n",
    "                                 y_center,\n",
    "                                 Radius,\n",
    "                                 id,\n",
    "                                 center=True,\n",
    "                                 ax=ax_circ)\n",
    "                \n",
    "            for fts_id, fts_rings in fts_ring_locs.items():\n",
    "                \n",
    "                # prepare XYZ coordinates\n",
    "                fts_XYZ = np.array([fts_rings.x, fts_rings.y, fts_rings.z]).transpose()\n",
    "\n",
    "                # rotate coordinates into the plane of the ring. ring should be now in X-Y\n",
    "                fts_ring_rot[fts_id], fts_normal[fts_id] = rotate_ring(fts_XYZ)\n",
    "                \n",
    "                # fit 2D ring into the XY ring data\n",
    "                fts_x_center, fts_y_center, fts_Radius, fts_residu = leastsq_circle(fts_ring_rot[fts_id][:,0],\n",
    "                                                                                    fts_ring_rot[fts_id][:,1])\n",
    "                \n",
    "                fts_c = rodrigues_rot(np.array([fts_x_center, fts_y_center,0]), \n",
    "                                      [0,0,1], \n",
    "                                      fts_normal[fts_id]) + fts_XYZ.mean(axis=0)\n",
    "                \n",
    "                fts_center[fts_id] = fts_c.flatten()\n",
    "                \n",
    "                # extract radii\n",
    "                fts_ring_radii[fts_id] = fts_Radius\n",
    "                \n",
    "            \n",
    "            # calculate the center-to-center distance\n",
    "            center_dist = distance.euclidean(center[0], center[1])\n",
    "            fts_center_dist = distance.euclidean(center[0], fts_center[0])\n",
    "                \n",
    "            # calculate the angle between to two fitted ring planes\n",
    "            ring_angle = abs(angle_between(normal[0],normal[1]))\n",
    "            \n",
    "            # if normals point into opposite direction\n",
    "            if ring_angle > 90:\n",
    "                ring_angle -=180\n",
    "                ring_angle = abs(ring_angle)\n",
    "               \n",
    "            # calculate the angle between coverslip and spore or mother ring\n",
    "            coverslip_s_angle = angle_between(normal[0],[0,0,1])\n",
    "            coverslip_m_angle = angle_between(normal[1],[0,0,1])\n",
    "            \n",
    "            # plot 3D ring\n",
    "            ax2 = fig.add_subplot(gs[0, 1], projection=\"3d\")\n",
    "            plot_3d_ring(ring_rot,center_dist, ax=ax2)\n",
    "            \n",
    "            ################\n",
    "            # (4) qPAINT analysis\n",
    "            ################\n",
    "            \n",
    "            ax4 = fig.add_subplot(gs[1, 1])\n",
    "            ax6 = fig.add_subplot(gs[2, 1])\n",
    "            \n",
    "            for id, rings_linked in ring_locs_linked.items():\n",
    "\n",
    "                    # compute kinetics\n",
    "                    kinetics = compute_dark_times(rings_linked)\n",
    "\n",
    "                    # compute mean bright and dark times\n",
    "                    ring_kinetics[id] = {\"bright\":np.nanmean(kinetics.len),\n",
    "                                         \"dark\":np.nanmean(kinetics.dark)}\n",
    "                    \n",
    "                    fit_result_len = fit_cum_exp(kinetics.len)\n",
    "                    fit_result_dark = fit_cum_exp(kinetics.dark)\n",
    "                \n",
    "                    if id == 0:\n",
    "                        ax_fit=ax4\n",
    "                    if id == 1:\n",
    "                        ax_fit=ax6\n",
    "                    \n",
    "                    plot_cum_exp(kinetics, fit_result_len, fit_result_dark, id, ax=ax_fit)\n",
    "                    \n",
    "                    ring_kinetics_fit[id] = {\"bright\":np.nanmean(fit_result_len.best_values[\"t\"]),\n",
    "                                             \"dark\":np.nanmean(fit_result_dark.best_values[\"t\"])}\n",
    "                    \n",
    "            for fts_id, fts_rings_linked in fts_ring_locs_linked.items():\n",
    "\n",
    "                    # compute kinetics\n",
    "                    fts_kinetics = compute_dark_times(fts_rings_linked)\n",
    "\n",
    "                    # compute mean bright and dark times\n",
    "                    fts_ring_kinetics[fts_id] = {\"bright\":np.nanmean(fts_kinetics.len),\n",
    "                                         \"dark\":np.nanmean(fts_kinetics.dark)}\n",
    "                    \n",
    "                    fts_fit_result_len = fit_cum_exp(fts_kinetics.len)\n",
    "                    fts_fit_result_dark = fit_cum_exp(fts_kinetics.dark)\n",
    "                    \n",
    "                    fts_ring_kinetics_fit[fts_id] = {\"bright\":np.nanmean(fts_fit_result_len.best_values[\"t\"]),\n",
    "                                             \"dark\":np.nanmean(fts_fit_result_dark.best_values[\"t\"])}\n",
    "                       \n",
    "            ################\n",
    "            # (5) append data into large array\n",
    "            ################\n",
    "            \n",
    "            ring_data.append([file_id, #running file index\n",
    "                              filename, #DIV4A filename,\n",
    "                              fts_filename, #FtsZ filename\n",
    "                              pick, #pick number\n",
    "                              ring_radii[0], #fitted radius of spore (nm)\n",
    "                              ring_radii[1], #fitted radius of mother (nm)\n",
    "                              fts_ring_radii[0], #fitted radius of ftsZ (nm)\n",
    "                              peak_dist, #peak-to-peak distance (nm)\n",
    "                              fts_peak_dist, #spore_peak-to-ftsZ_peak (nm)\n",
    "                              center_dist, #center-to-center distance (nm)\n",
    "                              fts_center_dist, #spore_center-to-ftsZ_center (nm)\n",
    "                              ring_angle, #angle between the two ring planes (°)\n",
    "                              coverslip_s_angle, #anle between spore ring and coverslip (°)\n",
    "                              coverslip_m_angle, #anle between mother ring and coverslip (°)\n",
    "                              ring_n_events[0], #number of locs in spore ring\n",
    "                              ring_n_events[1], #number of  locs in mother ring\n",
    "                              fts_ring_n_events[0], #number of locs in ftsZ ring\n",
    "                              ring_kinetics[0][\"bright\"], #mean bright time of spore ring (frames)\n",
    "                              ring_kinetics[0][\"dark\"], #mean dark time of spore ring (frames)\n",
    "                              ring_kinetics[1][\"bright\"], #mean bright time of mother ring (frames)\n",
    "                              ring_kinetics[1][\"dark\"], #mean dark time of mother ring (frames)\n",
    "                              fts_ring_kinetics[0][\"bright\"], #mean bright time of ftsZ ring (frames)\n",
    "                              fts_ring_kinetics[0][\"dark\"], #mean dark time of ftsZ ring (frames)\n",
    "                              ring_kinetics_fit[0][\"bright\"], #cumulative mean bright times of spore (frames)\n",
    "                              ring_kinetics_fit[0][\"dark\"], #cumulative mean dark times of spore (frames)\n",
    "                              ring_kinetics_fit[1][\"bright\"], #cumulative mean bright times of mother (frames)\n",
    "                              ring_kinetics_fit[1][\"dark\"], #cumulative mean dark times of mother (frames)\n",
    "                              fts_ring_kinetics_fit[0][\"bright\"], #cumulative mean bright times of ftsZ (frames)\n",
    "                              fts_ring_kinetics_fit[0][\"dark\"], #cumulative mean dark times of ftsZ (frames)\n",
    "                             ])\n",
    "            \n",
    "            ################\n",
    "            # (6) save plots\n",
    "            ################\n",
    "            \n",
    "            img_fname = \"file_{}_pick_{}\".format(file_id, pick)\n",
    "            img_name = os.path.join(analysis_folder, img_fname)\n",
    "            plt.savefig(img_name+img_format, dpi=dpi, format=\"png\")\n",
    "            plt.close(fig)\n",
    "            \n",
    "            \n",
    "            ################\n",
    "            # (7) export ring locs\n",
    "            ################\n",
    "            \n",
    "            for id, rings_linked in ring_locs_linked.items():\n",
    "                save_ring_locs(rings_linked, info, analysis_folder, file_id, pick, id, link=True)\n",
    "            \n",
    "            for id, rings in ring_locs.items():\n",
    "                save_ring_locs(rings, info, analysis_folder, file_id, pick, id, link=False)\n",
    "            \n",
    "        else:\n",
    "            fig, ax = plt.subplots(1, 1, figsize=(7, 5), constrained_layout=True)\n",
    "            fig.suptitle((\"Pick {} - Ring analysis\\n\"\n",
    "                          \"File: {}\").format(pick,filename), fontsize=14, ha=\"center\")\n",
    "            \n",
    "            plot_peak_dist(pick_locs, hist_data, estimated_peaks, r_par, binning=binning, axes=\"y\", ax=ax)\n",
    "            img_fname = \"file_{}_pick_{}\".format(file_id, pick)\n",
    "            img_name = os.path.join(analysis_folder_excluded, img_fname)\n",
    "            plt.savefig(img_name+img_format, format=\"png\")\n",
    "            plt.close(fig)\n",
    "            rings_excluded.append(pick)\n",
    "        \n",
    "print(\"Calculation finished.\")\n",
    "print(\"Total: {} rings analysed, {} excluded.\".format(len(ring_data), len(rings_excluded)))\n",
    "\n",
    "\n",
    "\n",
    "# Save analysis data\n",
    "df_ring_data = pd.DataFrame(ring_data, columns=[\"file_index\",\n",
    "                                                \"div filename\",\n",
    "                                                \"fts filename\",\n",
    "                                                \"group\",\n",
    "                                                \"radius_spore\",\n",
    "                                                \"radius_mother\",\n",
    "                                                \"radius_ftsZ\",\n",
    "                                                \"p2p distance\",\n",
    "                                                \"ftsZ distance-p2p spore\",\n",
    "                                                \"c2c distance\",\n",
    "                                                \"ftsZ distance-c2c spore\",\n",
    "                                                \"angle_between_rings\",\n",
    "                                                \"angle_between_s_ring_and_coverslip\",\n",
    "                                                \"angle_between_m_ring_and_coverslip\",\n",
    "                                                \"n_events_spore\",\n",
    "                                                \"n_events_mother\",\n",
    "                                                \"n_events_ftsZ\",\n",
    "                                                \"mean_bright_spore\",\n",
    "                                                \"mean_dark_spore\",\n",
    "                                                \"mean_bright_mother\",\n",
    "                                                \"mean_dark_mother\",\n",
    "                                                \"mean_bright_ftsZ\",\n",
    "                                                \"mean_dark_ftsZ\",\n",
    "                                                \"fit_bright_spore\",\n",
    "                                                \"fit_dark_spore\",\n",
    "                                                \"fit_bright_mother\",\n",
    "                                                \"fit_dark_mother\",\n",
    "                                                \"fit_bright_ftsZ\",\n",
    "                                                \"fit_dark_ftsZ\"\n",
    "                                               ])\n",
    "df_ring_data.to_csv(\"exchange_data.csv\")\n",
    "print(\"Data saved to CSV file in locs folder.\")"
   ]
  },
  {
   "cell_type": "code",
   "execution_count": null,
   "metadata": {},
   "outputs": [],
   "source": []
  },
  {
   "cell_type": "code",
   "execution_count": null,
   "metadata": {},
   "outputs": [],
   "source": []
  }
 ],
 "metadata": {
  "kernelspec": {
   "display_name": "Python 3 (ipykernel)",
   "language": "python",
   "name": "python3"
  },
  "language_info": {
   "codemirror_mode": {
    "name": "ipython",
    "version": 3
   },
   "file_extension": ".py",
   "mimetype": "text/x-python",
   "name": "python",
   "nbconvert_exporter": "python",
   "pygments_lexer": "ipython3",
   "version": "3.7.13"
  }
 },
 "nbformat": 4,
 "nbformat_minor": 2
}
