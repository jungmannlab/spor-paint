{
 "cells": [
  {
   "cell_type": "code",
   "execution_count": 20,
   "id": "b639b632",
   "metadata": {},
   "outputs": [],
   "source": [
    "import pathlib\n",
    "import pandas as pd\n",
    "import os\n",
    "import numpy as np\n",
    "\n",
    "from picasso.picasso import postprocess\n",
    "from picasso.picasso import io"
   ]
  },
  {
   "cell_type": "code",
   "execution_count": 21,
   "id": "8961780b",
   "metadata": {},
   "outputs": [],
   "source": [
    "def load_data(path):\n",
    "\n",
    "    try:\n",
    "        locs, info = io.load_locs(path)\n",
    "    except io.NoMetadataFileError:\n",
    "        return None, None, None\n",
    "    \n",
    "    try:\n",
    "        pixelsize = info[1][\"Pixelsize\"]\n",
    "    except:  \n",
    "        print(\"No pixelsize found in yaml file.\")\n",
    "\n",
    "    return locs, info, pixelsize"
   ]
  },
  {
   "cell_type": "code",
   "execution_count": 35,
   "id": "8c25784e",
   "metadata": {},
   "outputs": [],
   "source": [
    "parent_folder = r'X:\\users\\kcramer\\sporPAINT\\SepF-FtsZ\\Picked_septa_FtsZ_SepF_fit_analysis'\n",
    "\n",
    "filename_contains = ['fov']\n",
    "\n",
    "exclude_if = ['spor_pick', 'veg_pick', r'ring_locs\\fov']"
   ]
  },
  {
   "cell_type": "code",
   "execution_count": 36,
   "id": "61773321",
   "metadata": {},
   "outputs": [
    {
     "name": "stdout",
     "output_type": "stream",
     "text": [
      "X:\\users\\kcramer\\sporPAINT\\SepF-FtsZ\\Picked_septa_FtsZ_SepF_fit_analysis\\veg_sepf_ZringAndSepF_rings_230401_fov2_kcb1113_50pMr2_SepF_DP_1_drift_aligned_picked.hdf5\n",
      "6.205562244687428 5.67000113427639\n",
      "X:\\users\\kcramer\\sporPAINT\\SepF-FtsZ\\Picked_septa_FtsZ_SepF_fit_analysis\\veg_sepf_sepfAndFtsZ_rings_230518_artemis_kcb1113_fov3_150pM-r2_SepF_DP_1_drift_aligned_picked.hdf5\n",
      "5.046882767950365 3.947465680539608\n",
      "X:\\users\\kcramer\\sporPAINT\\SepF-FtsZ\\Picked_septa_FtsZ_SepF_fit_analysis\\Veg_FtsZ_SepFandFtsZ_rings_230518_artemis_kcb1113_fov2_180pM-r5_FtsZ_DP_1_aligned_picked.hdf5\n",
      "5.518455827545239 4.5337313413619995\n",
      "X:\\users\\kcramer\\sporPAINT\\SepF-FtsZ\\Picked_septa_FtsZ_SepF_fit_analysis\\spor_sepf_sepfAndFtsZ_rings_230518_artemis_kcb1113_fov3_150pM-r2_SepF_DP_1_drift_aligned_picked.hdf5\n",
      "4.62982239972928 4.573717527091503\n",
      "X:\\users\\kcramer\\sporPAINT\\SepF-FtsZ\\Picked_septa_FtsZ_SepF_fit_analysis\\veg_Ftsz_sepFandFtsZ_rings_230518_artemis_kcb1113_fov3_180pM-r5_FsZ_DP_1_drift_aligned_picked.hdf5\n",
      "4.427401320563398 4.363734722137451\n",
      "X:\\users\\kcramer\\sporPAINT\\SepF-FtsZ\\Picked_septa_FtsZ_SepF_fit_analysis\\spor_FtsZ_SepFandFtsZ_rings_230518_artemis_kcb1113_fov4_180pM-r5_FsZ_DP_1_drift_aligned_picked.hdf5\n",
      "4.39919211262346 4.537656009197235\n",
      "X:\\users\\kcramer\\sporPAINT\\SepF-FtsZ\\Picked_septa_FtsZ_SepF_fit_analysis\\Spor_SepF_SepFandFtsZ_230310_kcb1113_2plex_spor_fov3_500pM-r3_SepF_DP_1_drift_aligned_picked.hdf5\n",
      "5.051812794417517 3.5322155803442\n",
      "X:\\users\\kcramer\\sporPAINT\\SepF-FtsZ\\Picked_septa_FtsZ_SepF_fit_analysis\\veg_FtsZ_ZringAndSepF_rings_230401_fov2_kcb1113_150pMr2_FtsZ_DP_1_drift_aligned_picked.hdf5\n",
      "6.457461227476696 5.500537231564522\n",
      "X:\\users\\kcramer\\sporPAINT\\SepF-FtsZ\\Picked_septa_FtsZ_SepF_fit_analysis\\spor_sepf_ZringAndSepF_rings_230401_fov2_kcb1113_50pMr2_SepF_DP_1_drift_aligned_picked.hdf5\n",
      "6.861742100338493 6.935382038354874\n",
      "X:\\users\\kcramer\\sporPAINT\\SepF-FtsZ\\Picked_septa_FtsZ_SepF_fit_analysis\\spor_SepF_sepFandFtsZ_rings_230518_artemis_kcb1113_fov1_150pM-r2_DP-2_1_drift_aligned_picked.hdf5\n",
      "4.779550147286642 4.9501800537109375\n",
      "X:\\users\\kcramer\\sporPAINT\\SepF-FtsZ\\Picked_septa_FtsZ_SepF_fit_analysis\\spor_sepf_SepFandFtsZ_rings_230518_artemis_kcb1113_fov4_140pM-r2_SepF_DP_1_drift_aligned_picked.hdf5\n",
      "5.084684294285983 5.172463282942772\n",
      "X:\\users\\kcramer\\sporPAINT\\SepF-FtsZ\\Picked_septa_FtsZ_SepF_fit_analysis\\spor_FtsZ_sepFandFtsZ_rings_230518_artemis_kcb1113_fov1_180pM-r5_DP-2_1_drift_aligned_picked.hdf5\n",
      "4.799646236106405 4.990403056144714\n",
      "X:\\users\\kcramer\\sporPAINT\\SepF-FtsZ\\Picked_septa_FtsZ_SepF_fit_analysis\\veg_SepF_ZringAndSepF_rings_230401_fov1_kcb1113_500pMr4_SepF_DP_1_drift_filter-2_aligned_picked.hdf5\n",
      "6.553708017305022 5.313605070114136\n",
      "X:\\users\\kcramer\\sporPAINT\\SepF-FtsZ\\Picked_septa_FtsZ_SepF_fit_analysis\\spor_FtsZ_ZringAndSepF_rings_230401_fov2_kcb1113_150pMr2_FtsZ_DP_1_drift_aligned_picked.hdf5\n",
      "7.2791585708399005 6.795916855335236\n",
      "X:\\users\\kcramer\\sporPAINT\\SepF-FtsZ\\Picked_septa_FtsZ_SepF_fit_analysis\\veg_sepF_ZringAndSepF_rings_230401_fov3_kcb1113_500pMr2_SepF_DP_1_drift_aligned_filter_picked.hdf5\n",
      "6.2283559287966295 6.29223145544529\n",
      "X:\\users\\kcramer\\sporPAINT\\SepF-FtsZ\\Picked_septa_FtsZ_SepF_fit_analysis\\veg_sepF_SepFandFtsZ_rings_230518_artemis_kcb1113_fov2_150pM-r2_SepF_DP_1_drift_aligned_picked.hdf5\n",
      "4.795626000412884 4.887680299580097\n",
      "X:\\users\\kcramer\\sporPAINT\\SepF-FtsZ\\Picked_septa_FtsZ_SepF_fit_analysis\\veg_SepF_sepFandFtsZ_rings_230518_artemis_kcb1113_fov1_150pM-r2_DP-2_1_drift_aligned_picked.hdf5\n",
      "5.363892866908175 5.434371903538704\n",
      "X:\\users\\kcramer\\sporPAINT\\SepF-FtsZ\\Picked_septa_FtsZ_SepF_fit_analysis\\veg_FtsZ_ZringAndSepF_rings_230401_fov3_kcb1113_112pMr2_FtsZ_DP_1_drift_aligned_picked.hdf5\n",
      "6.758920015212347 5.858406499028206\n",
      "X:\\users\\kcramer\\sporPAINT\\SepF-FtsZ\\Picked_septa_FtsZ_SepF_fit_analysis\\Spor_SepF_SepFwithFtsZ_230317_fov1_2plex_kcb1113_375pM-r3_DP_1_drift_aligned_picked.hdf5\n",
      "5.190575201395826 3.4409191086888313\n",
      "X:\\users\\kcramer\\sporPAINT\\SepF-FtsZ\\Picked_septa_FtsZ_SepF_fit_analysis\\veg_sepf_SepFandFtsZ_rings_230518_artemis_kcb1113_fov4_140pM-r2_SepF_DP_1_drift_aligned_picked.hdf5\n",
      "4.318782790576517 4.485298693180084\n",
      "X:\\users\\kcramer\\sporPAINT\\SepF-FtsZ\\Picked_septa_FtsZ_SepF_fit_analysis\\Veg_SepF_SepFandFtsZ_230310_kcb1113_2plex_spor_fov3_500pM-r3_SepF_DP_1_drift_aligned_picked.hdf5\n",
      "4.704976822989844 3.25176939368248\n",
      "X:\\users\\kcramer\\sporPAINT\\SepF-FtsZ\\Picked_septa_FtsZ_SepF_fit_analysis\\veg_FtsZ_sepFandFtsZ_rings_230518_artemis_kcb1113_fov1_180pM-r5_DP-2_1_drift_aligned_picked.hdf5\n",
      "4.765603077880178 5.117635130882263\n",
      "X:\\users\\kcramer\\sporPAINT\\SepF-FtsZ\\Picked_septa_FtsZ_SepF_fit_analysis\\spor_FtsZ_ZringAndSepF_rings_230401_fov1_kcb1113_150pMr2_FtsZ_DP_1_drift_aligned_picked.hdf5\n",
      "7.407974240689484 6.842769272625446\n",
      "X:\\users\\kcramer\\sporPAINT\\SepF-FtsZ\\Picked_septa_FtsZ_SepF_fit_analysis\\Spor_FtsZ_SepFwithFtsZ_230317_fov1_2plex_kcb1113_200pM-r2_DP_1_drift_aligned_picked.hdf5\n",
      "6.164948742233478 3.3995752222836018\n",
      "X:\\users\\kcramer\\sporPAINT\\SepF-FtsZ\\Picked_septa_FtsZ_SepF_fit_analysis\\spor_FtsZ_ZringAndSepF_rings_230401_fov3_kcb1113_112pMr2_FtsZ_DP_1_drift_aligned_picked.hdf5\n",
      "6.350426430876384 4.9166131019592285\n",
      "X:\\users\\kcramer\\sporPAINT\\SepF-FtsZ\\Picked_septa_FtsZ_SepF_fit_analysis\\spor_FtsZ_SepFandFtsZ_rings_230518_artemis_kcb1113_fov2_180pM-r5_FtsZ_DP_1_aligned_picked.hdf5\n",
      "5.829456792259757 5.595444068312645\n",
      "X:\\users\\kcramer\\sporPAINT\\SepF-FtsZ\\Picked_septa_FtsZ_SepF_fit_analysis\\Veg_FtsZ_SepFandFtsZ_230310_kcb1113_2plex_spor_fov3_200pM-r2_FtsZ_DP_1_drift_aligned_picked.hdf5\n",
      "4.716792643474368 2.88270290941\n",
      "X:\\users\\kcramer\\sporPAINT\\SepF-FtsZ\\Picked_septa_FtsZ_SepF_fit_analysis\\Spor_FtsZ_SepFandFtsZ_230310_kcb1113_2plex_spor_fov3_200pM-r2_FtsZ_DP_1_drift_aligned_picked.hdf5\n",
      "5.208336070372437 3.2243863120675087\n",
      "X:\\users\\kcramer\\sporPAINT\\SepF-FtsZ\\Picked_septa_FtsZ_SepF_fit_analysis\\Veg_SepF_SepFwithFtsZ_230317_fov1_2plex_kcb1113_375pM-r3_DP_1_drift_aligned_picked.hdf5\n",
      "5.3209397407823955 3.673093430697918\n",
      "X:\\users\\kcramer\\sporPAINT\\SepF-FtsZ\\Picked_septa_FtsZ_SepF_fit_analysis\\spor_SepF_ZringAndSepF_rings_230401_fov1_kcb1113_500pMr4_SepF_DP_1_drift_filter-2_aligned_picked.hdf5\n",
      "7.790755539980873 7.378697097301483\n",
      "X:\\users\\kcramer\\sporPAINT\\SepF-FtsZ\\Picked_septa_FtsZ_SepF_fit_analysis\\spor_Ftsz_sepFandFtsZ_rings_230518_artemis_kcb1113_fov3_180pM-r5_FsZ_DP_1_drift_aligned_picked.hdf5\n",
      "4.483259535617641 3.8177506625652313\n",
      "X:\\users\\kcramer\\sporPAINT\\SepF-FtsZ\\Picked_septa_FtsZ_SepF_fit_analysis\\veg_FtsZ_ZringAndSepF_rings_230401_fov1_kcb1113_150pMr2_FtsZ_DP_1_drift_aligned_picked.hdf5\n",
      "6.429199553689875 5.495005697011948\n",
      "X:\\users\\kcramer\\sporPAINT\\SepF-FtsZ\\Picked_septa_FtsZ_SepF_fit_analysis\\spor_sepF_ZringAndSepF_rings_230401_fov3_kcb1113_500pMr2_SepF_DP_1_drift_aligned_filter_picked.hdf5\n",
      "6.141468967438383 7.440857850015163\n",
      "X:\\users\\kcramer\\sporPAINT\\SepF-FtsZ\\Picked_septa_FtsZ_SepF_fit_analysis\\spor_sepF_SepFandFtsZ_rings_230518_artemis_kcb1113_fov2_150pM-r2_SepF_DP_1_drift_aligned_picked.hdf5\n",
      "5.040753130561995 4.255003891885281\n",
      "X:\\users\\kcramer\\sporPAINT\\SepF-FtsZ\\Picked_septa_FtsZ_SepF_fit_analysis\\Veg_FtsZ_SepFwithFtsZ_230317_fov1_2plex_kcb1113_200pM-r2_DP_1_drift_aligned_picked.hdf5\n",
      "6.629778528618253 3.6743303015828133\n",
      "X:\\users\\kcramer\\sporPAINT\\SepF-FtsZ\\Picked_septa_FtsZ_SepF_fit_analysis\\Veg_FtsZ_SepFandFtsZ_rings_230518_artemis_kcb1113_fov4_180pM-r5_FsZ_DP_1_drift_aligned_picked.hdf5\n",
      "3.9363079367071063 4.576040655374527\n"
     ]
    }
   ],
   "source": [
    "loc_prec_list = []\n",
    "\n",
    "path = pathlib.Path(parent_folder)\n",
    "for file in path.rglob('*.hdf5'):\n",
    "    file = str(file)\n",
    "\n",
    "    # exclude filenames that contain any of the strings in the exclude_if array\n",
    "    if not any(x in file for x in exclude_if):\n",
    "        \n",
    "        # exclude filenames that do not contain all of the strings in the filename_contains array\n",
    "        if all(x in file for x in filename_contains):\n",
    "            print(file)\n",
    "            \n",
    "            locs, info, pixelsize = load_data(file)\n",
    "            \n",
    "            fit_result, nena = postprocess.nena(locs, info)\n",
    "            nena_nm = nena * pixelsize\n",
    "\n",
    "            \n",
    "            \n",
    "            \n",
    "            median_lp = np.mean([np.median(locs.lpx), np.median(locs.lpy)])\n",
    "            median_lp_nm = median_lp * pixelsize\n",
    "            \n",
    "            loc_prec_list.append([file, nena_nm, median_lp_nm])\n",
    "            \n",
    "            \n",
    "\n",
    "            print(nena_nm, median_lp_nm)\n",
    "            \n",
    "            \n",
    "loc_prec_list_df = pd.DataFrame(loc_prec_list, columns = ['Filename', 'NeNA', 'Median Fit Precision'])\n",
    "loc_prec_list_df.to_csv(os.path.join(parent_folder, 'Localization_Precision.csv'))"
   ]
  },
  {
   "cell_type": "code",
   "execution_count": 19,
   "id": "3133c8cd",
   "metadata": {},
   "outputs": [
    {
     "name": "stdout",
     "output_type": "stream",
     "text": [
      "False\n",
      "Z:\\users\\kcramer\\papers\\sporulation_paint\\veg_exchange\\5_veg_ftsz_picked_200717_exch_kcb300_fov4_dp_ftsz_1_drift_align_picked_avg3.hdf5\n"
     ]
    }
   ],
   "source": [
    "print(r'ring_locs\\fov' in file)\n",
    "print(file)"
   ]
  },
  {
   "cell_type": "code",
   "execution_count": null,
   "id": "9b16ca9c",
   "metadata": {},
   "outputs": [],
   "source": []
  }
 ],
 "metadata": {
  "kernelspec": {
   "display_name": "Python 3 (ipykernel)",
   "language": "python",
   "name": "python3"
  },
  "language_info": {
   "codemirror_mode": {
    "name": "ipython",
    "version": 3
   },
   "file_extension": ".py",
   "mimetype": "text/x-python",
   "name": "python",
   "nbconvert_exporter": "python",
   "pygments_lexer": "ipython3",
   "version": "3.7.13"
  }
 },
 "nbformat": 4,
 "nbformat_minor": 5
}
